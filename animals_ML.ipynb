{
  "nbformat": 4,
  "nbformat_minor": 0,
  "metadata": {
    "colab": {
      "provenance": [],
      "toc_visible": true,
      "authorship_tag": "ABX9TyPIn9Z+rwAqWuRiifYnnr3h",
      "include_colab_link": true
    },
    "kernelspec": {
      "name": "python3",
      "display_name": "Python 3"
    },
    "language_info": {
      "name": "python"
    }
  },
  "cells": [
    {
      "cell_type": "markdown",
      "metadata": {
        "id": "view-in-github",
        "colab_type": "text"
      },
      "source": [
        "<a href=\"https://colab.research.google.com/github/svkrishnaveni/AdaBoost_Using_Numpy/blob/main/animals_ML.ipynb\" target=\"_parent\"><img src=\"https://colab.research.google.com/assets/colab-badge.svg\" alt=\"Open In Colab\"/></a>"
      ]
    },
    {
      "cell_type": "code",
      "execution_count": 4,
      "metadata": {
        "colab": {
          "base_uri": "https://localhost:8080/"
        },
        "id": "ZsqwcxJ1dfke",
        "outputId": "a40501f8-a6c6-4cbd-8192-fdbc33ea833b"
      },
      "outputs": [
        {
          "output_type": "stream",
          "name": "stdout",
          "text": [
            "Mounted at /content/drive\n"
          ]
        }
      ],
      "source": [
        "# Mount folder from google drive\n",
        "from google.colab import drive\n",
        "drive.mount('/content/drive')"
      ]
    },
    {
      "cell_type": "code",
      "source": [
        "import numpy as np\n",
        "import pandas as pd\n",
        "import seaborn as sns\n",
        "import matplotlib.pyplot as plt\n",
        " \n",
        "from sklearn.metrics import classification_report, confusion_matrix"
      ],
      "metadata": {
        "id": "_5J2z8audssk"
      },
      "execution_count": 5,
      "outputs": []
    },
    {
      "cell_type": "code",
      "source": [],
      "metadata": {
        "id": "peeZ4KJcdsve"
      },
      "execution_count": null,
      "outputs": []
    },
    {
      "cell_type": "code",
      "source": [
        "import os\n",
        "\n",
        "str_train_dir = \"/content/drive/MyDrive/train_size_300\"\n",
        "str_valtest_dir = \"/content/drive/MyDrive/valtest_size_300\"\n",
        "def get_data(path):\n",
        "    class_names = os.listdir(path)\n",
        "    image_paths = []\n",
        "    labels = []\n",
        "    for name in class_names:\n",
        "        directory = os.path.join(path, name)\n",
        "        class_path = [os.path.join(directory, f) for f in os.listdir(directory)]\n",
        "        image_paths += class_path\n",
        "        labels.extend([name] * len(class_path))\n",
        "\n",
        "    return image_paths, labels\n",
        "\n",
        "\n",
        "def get_training_data():\n",
        "    return get_data(str_train_dir)\n",
        "\n",
        "\n",
        "def get_test_data():\n",
        "    return get_data(str_valtest_dir)\n",
        "\n",
        "import pickle\n",
        "\n",
        "\n",
        "def save_model(filepath, clf):\n",
        "    pickle.dump(clf, open(filepath, \"wb\"))\n",
        "\n",
        "\n",
        "def load_model(model_path: str):\n",
        "    with open(model_path, \"rb\") as model_file:\n",
        "        model = pickle.load(model_file)\n",
        "\n",
        "    return model"
      ],
      "metadata": {
        "id": "w1zrNN9wdsyX"
      },
      "execution_count": 6,
      "outputs": []
    },
    {
      "cell_type": "code",
      "source": [
        "from typing import List\n",
        "\n",
        "import cv2\n",
        "import numpy as np\n",
        "from scipy.cluster.vq import kmeans, vq\n",
        "\n",
        "\n",
        "CLUSTER_SIZE = 200\n",
        "\n",
        "\n",
        "def extract_feature(images: List[str]):\n",
        "    n = len(images)\n",
        "    descriptors = []\n",
        "    orb = cv2.ORB_create()\n",
        "\n",
        "    # extract features\n",
        "    for image_path in images:\n",
        "        img = cv2.imread(image_path)\n",
        "        features = orb.detect(img, None)\n",
        "        _, img_descriptor = orb.compute(img, features)\n",
        "        descriptors.append((image_path, img_descriptor))\n",
        "\n",
        "    # reformat training descriptors\n",
        "    concat_descriptors = descriptors[0][1]\n",
        "    for image_path, descriptor in descriptors[1:]:\n",
        "        concat_descriptors = np.vstack((concat_descriptors, descriptor))\n",
        "    concat_descriptors = concat_descriptors.astype(float)\n",
        "\n",
        "    # k-means clustering\n",
        "    codebook, _ = kmeans(concat_descriptors, CLUSTER_SIZE, 1)\n",
        "\n",
        "    # create histogram of training images\n",
        "    img_features = np.zeros((n, CLUSTER_SIZE), \"float32\")\n",
        "    for i in range(n):\n",
        "        words, distance = vq(descriptors[i][1], codebook)\n",
        "        for word in words:\n",
        "            img_features[i][word] += 1\n",
        "\n",
        "    return img_features, codebook"
      ],
      "metadata": {
        "id": "Ces-RjzDds1E"
      },
      "execution_count": 7,
      "outputs": []
    },
    {
      "cell_type": "code",
      "source": [
        "import numpy as np\n",
        "from sklearn.naive_bayes import GaussianNB\n",
        "from scipy import stats\n",
        "from sklearn.model_selection import GridSearchCV, RandomizedSearchCV \n",
        "from sklearn.svm import SVC as svc \n",
        "from sklearn.ensemble import RandomForestClassifier\n",
        "from sklearn.neighbors import KNeighborsClassifier\n",
        "from sklearn.metrics import make_scorer, roc_auc_score\n",
        "\n",
        "def get_training_features():\n",
        "    training_images, training_labels = get_training_data()\n",
        "    img_features, codebook = extract_feature(training_images)\n",
        "    return img_features, codebook, training_labels\n",
        "\n",
        "## set search parameters for SVC classifier\n",
        "\n",
        "# C: float, default=1.0\n",
        "# Regularization parameter. The strength of the regularization is inversely proportional to C. Must be strictly positive. The penalty is a squared l2 penalty.\n",
        "\n",
        "# kernel {‘linear’, ‘poly’, ‘rbf’, ‘sigmoid’, ‘precomputed’} or callable, default=’rbf’\n",
        "# Specifies the kernel type to be used in the algorithm. If none is given, ‘rbf’ will be used. If a callable is given it is used to pre-compute the kernel matrix from data matrices; that matrix should be an array of shape (n_samples, n_samples).\n",
        "\n",
        "# degreeint, default=3\n",
        "# Degree of the polynomial kernel function (‘poly’). Ignored by all other kernels.\n",
        "\n",
        "rand_list_svc = {\"C\": stats.uniform(2, 10),\n",
        "             \"gamma\": stats.uniform(0.1, 1),\n",
        "             \"kernel\": ['linear', 'poly', 'rbf', 'sigmoid'],\n",
        "             }\n",
        "\n",
        "## set search parameters for KNN classifier\n",
        "\n",
        "# n_neighborsint, default=5\n",
        "# Number of neighbors to use by default for kneighbors queries.\n",
        "\n",
        "# weights {‘uniform’, ‘distance’} or callable, default=’uniform’\n",
        "# Weight function used in prediction. Possible values:\n",
        "\n",
        "# ‘uniform’ : uniform weights. All points in each neighborhood are weighted equally.\n",
        "\n",
        "# ‘distance’ : weight points by the inverse of their distance. in this case, closer neighbors of a query point will have a greater influence than neighbors which are further away.\n",
        "\n",
        "rand_list_knn = {\n",
        "                    'n_neighbors':  [int(x) for x in np.linspace(start = 1, stop = 100, num = 50)],\n",
        "                    'weights': ['uniform','distance'],\n",
        "                    'metric': ['euclidean','manhattan','chebyshev','minkowski'] ,\n",
        "                    }\n",
        "\n",
        "## set search parameters for Random Forests classifier\n",
        "\n",
        "# n_estimators int, default=100\n",
        "# The number of trees in the forest.\n",
        "\n",
        "\n",
        "# criterion{“gini”, “entropy”, “log_loss”}, default=”gini”\n",
        "# The function to measure the quality of a split. Supported criteria are “gini” for the Gini impurity and “log_loss” and “entropy” both for the Shannon information gain, see Mathematical formulation. Note: This parameter is tree-specific.\n",
        "\n",
        "# max_depth int, default=None\n",
        "# The maximum depth of the tree. If None, then nodes are expanded until all leaves are pure or until all leaves contain less than min_samples_split samples.\n",
        "\n",
        "rand_list_rf = {'bootstrap': [True, False],\n",
        "               'max_depth': [5, 10, 20, 30, 40, 50, None],\n",
        "               'criterion': ['gini','entropy'],\n",
        "               'n_estimators': [10, 30, 100, 200]}\n",
        "\n",
        "\n",
        "def train_model(X,Y,model_str = 'rf'):\n",
        "   \n",
        "    if model_str == 'rf':\n",
        "        mdl = RandomForestClassifier()\n",
        "        mdl2 = RandomizedSearchCV(mdl, param_distributions = rand_list_rf, n_iter = 200, n_jobs = 4, cv = 3, random_state = 7, scoring = \"accuracy\") \n",
        "        mdl2.fit(X, Y)\n",
        "        print(\"Best RF estimator found by Random search:\")\n",
        "        print(mdl2.best_estimator_)\n",
        "        return mdl2\n",
        "    elif model_str == 'svm':\n",
        "        mdl = svc(probability = True)\n",
        "        mdl2 = RandomizedSearchCV(mdl, param_distributions = rand_list_svc, n_iter = 200, n_jobs = 4, cv = 3, random_state = 7, scoring = \"accuracy\") \n",
        "        mdl2.fit(X, Y)\n",
        "        print(\"Best svm estimator found by Random search:\")\n",
        "        print(mdl2.best_estimator_)\n",
        "        return mdl2\n",
        "    elif model_str == 'knn':\n",
        "        mdl = KNeighborsClassifier()\n",
        "        mdl2 = RandomizedSearchCV(mdl, param_distributions = rand_list_knn, n_iter = 200, n_jobs = 4, cv = 3, random_state = 7, scoring = \"accuracy\")\n",
        "        mdl2.fit(X, Y) \n",
        "        print(\"Best knn estimator found by Random search:\")\n",
        "        print(mdl2.best_estimator_)\n",
        "        return mdl2\n",
        "    elif model_str == 'nbc':\n",
        "        mdl2 = GaussianNB()\n",
        "        mdl2.fit(X, Y)\n",
        "        return mdl2\n",
        "\n",
        "def evaluate_performance(mdl, x_test,y_test):\n",
        "    y_pred = mdl.predict(x_test)\n",
        "    return y_pred\n",
        "\n",
        "# print(classification_report(y_test, y_pred, target_names=target_names))\n",
        "# ConfusionMatrixDisplay.from_estimator(\n",
        "#     clf, X_test_pca, y_test, display_labels=target_names, xticks_rotation=\"vertical\"\n",
        "# )\n",
        "# plt.tight_layout()\n",
        "# plt.show()\n"
      ],
      "metadata": {
        "id": "lNv7VMX8ds38"
      },
      "execution_count": 11,
      "outputs": []
    },
    {
      "cell_type": "code",
      "source": [
        "train_features, codebook, train_labels = get_training_features()\n",
        "test_images, test_labels = get_test_data()\n"
      ],
      "metadata": {
        "id": "jzX2SfNbds9b"
      },
      "execution_count": 12,
      "outputs": []
    },
    {
      "cell_type": "code",
      "source": [
        "len(test_labels)\n",
        "len(y_pred)"
      ],
      "metadata": {
        "colab": {
          "base_uri": "https://localhost:8080/"
        },
        "id": "YeR_E631ZGTJ",
        "outputId": "3aed4935-c7e7-4716-91a3-02a38b408c1d"
      },
      "execution_count": 16,
      "outputs": [
        {
          "output_type": "execute_result",
          "data": {
            "text/plain": [
              "2"
            ]
          },
          "metadata": {},
          "execution_count": 16
        }
      ]
    },
    {
      "cell_type": "code",
      "source": [
        "# save train features and codebook\n",
        "save_model(\"/content/drive/MyDrive/ML_BOW_trainfeatures.pkl\",train_features)\n",
        "save_model(\"/content/drive/MyDrive/ML_BOW_codebook.pkl\",codebook)"
      ],
      "metadata": {
        "id": "f94z6cBe0WKZ"
      },
      "execution_count": 19,
      "outputs": []
    },
    {
      "cell_type": "code",
      "source": [
        "rf_mdl = train_model(train_features,np.array(train_labels),model_str = 'rf')"
      ],
      "metadata": {
        "colab": {
          "base_uri": "https://localhost:8080/"
        },
        "id": "u4U4FGuDdtAs",
        "outputId": "a4a0074d-79e2-4009-b0bb-c52128b79237"
      },
      "execution_count": 20,
      "outputs": [
        {
          "output_type": "stream",
          "name": "stderr",
          "text": [
            "/usr/local/lib/python3.7/dist-packages/sklearn/model_selection/_search.py:296: UserWarning: The total space of parameters 112 is smaller than n_iter=200. Running 112 iterations. For exhaustive searches, use GridSearchCV.\n",
            "  UserWarning,\n"
          ]
        },
        {
          "output_type": "stream",
          "name": "stdout",
          "text": [
            "Best RF estimator found by Random search:\n",
            "RandomForestClassifier(max_depth=40, n_estimators=200)\n"
          ]
        }
      ]
    },
    {
      "cell_type": "code",
      "source": [
        "save_model(\"/content/drive/MyDrive/ML_BOW_RFmdl.pkl\",rf_mdl)"
      ],
      "metadata": {
        "id": "VcnfOO1QdtDb"
      },
      "execution_count": 21,
      "outputs": []
    },
    {
      "cell_type": "code",
      "source": [
        "knn_mdl = train_model(train_features,np.array(train_labels),model_str = 'knn')"
      ],
      "metadata": {
        "colab": {
          "base_uri": "https://localhost:8080/"
        },
        "id": "vBi9JEIAdtGV",
        "outputId": "b2c3dbf8-cb8b-488f-ff2d-f94ddec9bd8b"
      },
      "execution_count": 22,
      "outputs": [
        {
          "output_type": "stream",
          "name": "stdout",
          "text": [
            "Best knn estimator found by Random search:\n",
            "KNeighborsClassifier(metric='euclidean', n_neighbors=37, weights='distance')\n"
          ]
        }
      ]
    },
    {
      "cell_type": "code",
      "source": [
        "save_model(\"/content/drive/MyDrive/ML_BOW_KNNmdl.pkl\",knn_mdl)"
      ],
      "metadata": {
        "id": "CbcQ-vO6dtI-"
      },
      "execution_count": 23,
      "outputs": []
    },
    {
      "cell_type": "code",
      "source": [
        "nbc_mdl = train_model(train_features,np.array(train_labels),model_str = 'nbc')"
      ],
      "metadata": {
        "id": "-SGzmS0adtL-"
      },
      "execution_count": 24,
      "outputs": []
    },
    {
      "cell_type": "code",
      "source": [
        "save_model(\"/content/drive/MyDrive/ML_BOW_NBCmdl.pkl\",nbc_mdl)"
      ],
      "metadata": {
        "id": "vvAwn7-3dtOr"
      },
      "execution_count": 25,
      "outputs": []
    },
    {
      "cell_type": "code",
      "source": [
        "svm_mdl = train_model(train_features,np.array(train_labels),model_str = 'svm')"
      ],
      "metadata": {
        "colab": {
          "base_uri": "https://localhost:8080/"
        },
        "id": "uDopAqowz_VB",
        "outputId": "f0b38d7a-0186-4a0b-8ecc-ab51fd9f9c6b"
      },
      "execution_count": 26,
      "outputs": [
        {
          "output_type": "stream",
          "name": "stdout",
          "text": [
            "Best svm estimator found by Random search:\n",
            "SVC(C=11.782228970785825, gamma=0.5555849133282118, kernel='poly',\n",
            "    probability=True)\n"
          ]
        }
      ]
    },
    {
      "cell_type": "code",
      "source": [
        "save_model(\"/content/drive/MyDrive/ML_BOW_SVMmdl.pkl\",svm_mdl)"
      ],
      "metadata": {
        "id": "hND0i8uL2S5M"
      },
      "execution_count": 27,
      "outputs": []
    },
    {
      "cell_type": "code",
      "source": [
        "import cv2\n",
        "import numpy as np\n",
        "from scipy.cluster.vq import vq\n",
        "\n",
        "CLUSTER_SIZE = 200\n",
        "\n",
        "\n",
        "def evaluate_model(estimator_path: str, codebook_path: str):\n",
        "    estimator = load_model(estimator_path)\n",
        "    codebook = load_model(codebook_path)\n",
        "\n",
        "    orb = cv2.ORB_create()\n",
        "    test_images, test_labels = get_test_data()\n",
        "    n = len(test_images)\n",
        "\n",
        "    test_descriptors = []\n",
        "    # extract features\n",
        "    for image_path in test_images:\n",
        "        img = cv2.imread(image_path)\n",
        "        features = orb.detect(img, None)\n",
        "        _, img_descriptor = orb.compute(img, features)\n",
        "        test_descriptors.append((image_path, img_descriptor))\n",
        "\n",
        "    img_features = np.zeros((n, CLUSTER_SIZE), \"float32\")\n",
        "    # create histogram of test images\n",
        "    for i in range(n):\n",
        "        words, distance = vq(test_descriptors[i][1], codebook)\n",
        "        for word in words:\n",
        "            img_features[i][word] += 1\n",
        "\n",
        "    predictions = estimator.predict(img_features)\n",
        "    correct = 0\n",
        "    for i in range(n):\n",
        "        if predictions[i] == test_labels[i]:\n",
        "            correct += 1\n",
        "\n",
        "    accuracy = correct / n\n",
        "    return round(accuracy, 2), predictions"
      ],
      "metadata": {
        "id": "kxtqRiwsiAjc"
      },
      "execution_count": 28,
      "outputs": []
    },
    {
      "cell_type": "code",
      "source": [
        "evaluate_model(\"/content/drive/MyDrive/ML_BOW_RFmdl.pkl\", \"/content/drive/MyDrive/ML_BOW_codebook.pkl\")"
      ],
      "metadata": {
        "colab": {
          "base_uri": "https://localhost:8080/"
        },
        "id": "MpjcraxIiAme",
        "outputId": "300b2364-77fb-49a2-9959-637ed3df8ba3"
      },
      "execution_count": 29,
      "outputs": [
        {
          "output_type": "execute_result",
          "data": {
            "text/plain": [
              "(0.39,\n",
              " array(['hyena', 'tiger', 'hyena', 'cheetah', 'wolf', 'cheetah', 'cheetah',\n",
              "        'lion', 'cheetah', 'cheetah', 'hyena', 'cheetah', 'cheetah', 'fox',\n",
              "        'hyena', 'cheetah', 'wolf', 'cheetah', 'lion', 'cheetah',\n",
              "        'cheetah', 'cheetah', 'cheetah', 'cheetah', 'tiger', 'cheetah',\n",
              "        'cheetah', 'cheetah', 'cheetah', 'cheetah', 'lion', 'wolf',\n",
              "        'cheetah', 'cheetah', 'tiger', 'cheetah', 'hyena', 'cheetah',\n",
              "        'cheetah', 'hyena', 'tiger', 'cheetah', 'hyena', 'hyena',\n",
              "        'cheetah', 'lion', 'lion', 'cheetah', 'cheetah', 'hyena',\n",
              "        'cheetah', 'tiger', 'cheetah', 'hyena', 'cheetah', 'cheetah',\n",
              "        'tiger', 'cheetah', 'cheetah', 'cheetah', 'cheetah', 'cheetah',\n",
              "        'cheetah', 'cheetah', 'cheetah', 'tiger', 'lion', 'hyena', 'hyena',\n",
              "        'lion', 'cheetah', 'fox', 'cheetah', 'tiger', 'cheetah', 'hyena',\n",
              "        'cheetah', 'cheetah', 'tiger', 'hyena', 'tiger', 'tiger', 'tiger',\n",
              "        'cheetah', 'lion', 'cheetah', 'lion', 'cheetah', 'cheetah',\n",
              "        'cheetah', 'cheetah', 'lion', 'cheetah', 'cheetah', 'hyena',\n",
              "        'cheetah', 'tiger', 'cheetah', 'cheetah', 'cheetah', 'lion',\n",
              "        'cheetah', 'hyena', 'fox', 'wolf', 'wolf', 'hyena', 'hyena',\n",
              "        'lion', 'wolf', 'hyena', 'wolf', 'tiger', 'fox', 'wolf', 'wolf',\n",
              "        'fox', 'hyena', 'tiger', 'lion', 'wolf', 'tiger', 'cheetah', 'fox',\n",
              "        'cheetah', 'fox', 'wolf', 'hyena', 'fox', 'fox', 'wolf', 'hyena',\n",
              "        'hyena', 'fox', 'cheetah', 'hyena', 'tiger', 'tiger', 'fox', 'fox',\n",
              "        'hyena', 'hyena', 'hyena', 'fox', 'tiger', 'lion', 'wolf', 'hyena',\n",
              "        'tiger', 'fox', 'fox', 'hyena', 'hyena', 'fox', 'wolf', 'hyena',\n",
              "        'tiger', 'hyena', 'lion', 'hyena', 'wolf', 'tiger', 'fox', 'tiger',\n",
              "        'fox', 'fox', 'hyena', 'fox', 'lion', 'lion', 'fox', 'lion', 'fox',\n",
              "        'wolf', 'hyena', 'lion', 'hyena', 'tiger', 'lion', 'cheetah',\n",
              "        'fox', 'cheetah', 'cheetah', 'hyena', 'hyena', 'hyena', 'tiger',\n",
              "        'lion', 'wolf', 'tiger', 'hyena', 'hyena', 'lion', 'hyena', 'lion',\n",
              "        'hyena', 'wolf', 'tiger', 'hyena', 'lion', 'hyena', 'hyena',\n",
              "        'lion', 'fox', 'hyena', 'cheetah', 'hyena', 'tiger', 'wolf',\n",
              "        'lion', 'fox', 'cheetah', 'cheetah', 'lion', 'wolf', 'wolf',\n",
              "        'lion', 'hyena', 'fox', 'lion', 'lion', 'hyena', 'wolf', 'hyena',\n",
              "        'hyena', 'wolf', 'hyena', 'cheetah', 'hyena', 'lion', 'hyena',\n",
              "        'hyena', 'hyena', 'tiger', 'cheetah', 'fox', 'cheetah', 'hyena',\n",
              "        'tiger', 'hyena', 'tiger', 'lion', 'hyena', 'hyena', 'tiger',\n",
              "        'lion', 'wolf', 'hyena', 'hyena', 'hyena', 'lion', 'hyena',\n",
              "        'hyena', 'hyena', 'hyena', 'tiger', 'fox', 'hyena', 'tiger',\n",
              "        'hyena', 'lion', 'cheetah', 'wolf', 'fox', 'lion', 'hyena', 'wolf',\n",
              "        'wolf', 'wolf', 'fox', 'lion', 'wolf', 'hyena', 'lion', 'hyena',\n",
              "        'hyena', 'fox', 'wolf', 'lion', 'lion', 'wolf', 'fox', 'lion',\n",
              "        'wolf', 'lion', 'hyena', 'tiger', 'fox', 'lion', 'lion', 'lion',\n",
              "        'fox', 'hyena', 'wolf', 'hyena', 'tiger', 'cheetah', 'tiger',\n",
              "        'hyena', 'lion', 'wolf', 'lion', 'fox', 'fox', 'tiger', 'lion',\n",
              "        'wolf', 'fox', 'tiger', 'lion', 'tiger', 'hyena', 'hyena',\n",
              "        'cheetah', 'lion', 'wolf', 'lion', 'hyena', 'tiger', 'lion',\n",
              "        'hyena', 'lion', 'cheetah', 'lion', 'lion', 'wolf', 'tiger',\n",
              "        'hyena', 'cheetah', 'wolf', 'hyena', 'lion', 'lion', 'tiger',\n",
              "        'fox', 'lion', 'wolf', 'hyena', 'lion', 'tiger', 'wolf', 'cheetah',\n",
              "        'wolf', 'hyena', 'hyena', 'lion', 'hyena', 'lion', 'wolf', 'wolf',\n",
              "        'cheetah', 'hyena', 'wolf', 'fox', 'hyena', 'lion', 'lion', 'wolf',\n",
              "        'hyena', 'tiger', 'hyena', 'tiger', 'cheetah', 'cheetah', 'tiger',\n",
              "        'tiger', 'tiger', 'tiger', 'cheetah', 'tiger', 'cheetah',\n",
              "        'cheetah', 'tiger', 'tiger', 'cheetah', 'tiger', 'cheetah',\n",
              "        'tiger', 'tiger', 'cheetah', 'tiger', 'tiger', 'tiger', 'tiger',\n",
              "        'tiger', 'tiger', 'tiger', 'hyena', 'tiger', 'tiger', 'tiger',\n",
              "        'tiger', 'lion', 'cheetah', 'cheetah', 'fox', 'tiger', 'cheetah',\n",
              "        'tiger', 'tiger', 'tiger', 'cheetah', 'tiger', 'tiger', 'hyena',\n",
              "        'hyena', 'tiger', 'tiger', 'cheetah', 'tiger', 'tiger', 'cheetah',\n",
              "        'hyena', 'cheetah', 'cheetah', 'tiger', 'tiger', 'cheetah',\n",
              "        'tiger', 'hyena', 'tiger', 'tiger', 'hyena', 'tiger', 'tiger',\n",
              "        'cheetah', 'tiger', 'lion', 'cheetah', 'tiger', 'cheetah', 'lion',\n",
              "        'cheetah', 'tiger', 'lion', 'tiger', 'tiger', 'cheetah', 'hyena',\n",
              "        'tiger', 'lion', 'hyena', 'lion', 'wolf', 'wolf', 'wolf', 'hyena',\n",
              "        'wolf', 'hyena', 'tiger', 'hyena', 'hyena', 'hyena', 'wolf',\n",
              "        'lion', 'lion', 'fox', 'wolf', 'wolf', 'hyena', 'wolf', 'wolf',\n",
              "        'hyena', 'hyena', 'lion', 'lion', 'wolf', 'hyena', 'hyena',\n",
              "        'tiger', 'cheetah', 'wolf', 'hyena', 'wolf', 'fox', 'hyena',\n",
              "        'wolf', 'hyena', 'tiger', 'cheetah', 'hyena', 'lion', 'wolf',\n",
              "        'lion', 'hyena', 'wolf', 'tiger', 'hyena', 'hyena', 'hyena',\n",
              "        'cheetah', 'wolf', 'cheetah', 'hyena', 'tiger', 'wolf', 'lion',\n",
              "        'tiger', 'tiger', 'tiger', 'hyena', 'fox', 'lion', 'cheetah',\n",
              "        'hyena', 'hyena', 'wolf', 'lion', 'hyena', 'lion', 'cheetah',\n",
              "        'hyena', 'hyena', 'cheetah', 'hyena', 'lion', 'lion', 'fox',\n",
              "        'hyena'], dtype='<U7'))"
            ]
          },
          "metadata": {},
          "execution_count": 29
        }
      ]
    },
    {
      "cell_type": "code",
      "source": [
        "evaluate_model(\"/content/drive/MyDrive/ML_BOW_KNNmdl.pkl\", \"/content/drive/MyDrive/ML_BOW_codebook.pkl\")"
      ],
      "metadata": {
        "colab": {
          "base_uri": "https://localhost:8080/"
        },
        "id": "J46pAc9viApl",
        "outputId": "6e2de3a8-98db-47f2-a5cc-3ff114d52cc7"
      },
      "execution_count": 30,
      "outputs": [
        {
          "output_type": "execute_result",
          "data": {
            "text/plain": [
              "(0.41, array(['tiger', 'tiger', 'cheetah', 'cheetah', 'wolf', 'cheetah',\n",
              "        'cheetah', 'wolf', 'cheetah', 'fox', 'cheetah', 'cheetah',\n",
              "        'cheetah', 'lion', 'lion', 'cheetah', 'cheetah', 'cheetah', 'lion',\n",
              "        'cheetah', 'cheetah', 'cheetah', 'cheetah', 'cheetah', 'tiger',\n",
              "        'tiger', 'tiger', 'cheetah', 'cheetah', 'tiger', 'lion', 'cheetah',\n",
              "        'cheetah', 'cheetah', 'tiger', 'tiger', 'lion', 'cheetah',\n",
              "        'cheetah', 'tiger', 'tiger', 'cheetah', 'tiger', 'lion', 'cheetah',\n",
              "        'cheetah', 'hyena', 'cheetah', 'cheetah', 'hyena', 'cheetah',\n",
              "        'tiger', 'cheetah', 'hyena', 'cheetah', 'cheetah', 'tiger',\n",
              "        'tiger', 'cheetah', 'cheetah', 'cheetah', 'cheetah', 'cheetah',\n",
              "        'cheetah', 'cheetah', 'tiger', 'cheetah', 'hyena', 'hyena',\n",
              "        'hyena', 'cheetah', 'hyena', 'hyena', 'tiger', 'cheetah', 'hyena',\n",
              "        'tiger', 'cheetah', 'tiger', 'wolf', 'tiger', 'tiger', 'tiger',\n",
              "        'cheetah', 'lion', 'tiger', 'lion', 'cheetah', 'cheetah',\n",
              "        'cheetah', 'cheetah', 'tiger', 'cheetah', 'cheetah', 'hyena',\n",
              "        'tiger', 'tiger', 'cheetah', 'cheetah', 'cheetah', 'cheetah',\n",
              "        'cheetah', 'tiger', 'wolf', 'hyena', 'lion', 'fox', 'hyena',\n",
              "        'lion', 'fox', 'fox', 'hyena', 'fox', 'lion', 'wolf', 'fox', 'fox',\n",
              "        'fox', 'tiger', 'fox', 'fox', 'tiger', 'fox', 'tiger', 'cheetah',\n",
              "        'fox', 'wolf', 'hyena', 'wolf', 'fox', 'fox', 'lion', 'hyena',\n",
              "        'fox', 'cheetah', 'wolf', 'tiger', 'tiger', 'hyena', 'fox',\n",
              "        'hyena', 'hyena', 'hyena', 'fox', 'tiger', 'hyena', 'hyena',\n",
              "        'wolf', 'cheetah', 'fox', 'fox', 'wolf', 'fox', 'hyena', 'fox',\n",
              "        'hyena', 'tiger', 'fox', 'fox', 'fox', 'cheetah', 'tiger', 'fox',\n",
              "        'tiger', 'lion', 'lion', 'hyena', 'lion', 'fox', 'fox', 'fox',\n",
              "        'cheetah', 'wolf', 'wolf', 'lion', 'hyena', 'hyena', 'lion',\n",
              "        'tiger', 'hyena', 'hyena', 'cheetah', 'wolf', 'cheetah', 'hyena',\n",
              "        'hyena', 'cheetah', 'hyena', 'wolf', 'tiger', 'fox', 'fox',\n",
              "        'cheetah', 'hyena', 'hyena', 'wolf', 'hyena', 'hyena', 'wolf',\n",
              "        'cheetah', 'hyena', 'hyena', 'hyena', 'tiger', 'hyena', 'cheetah',\n",
              "        'wolf', 'tiger', 'wolf', 'fox', 'hyena', 'cheetah', 'cheetah',\n",
              "        'tiger', 'wolf', 'hyena', 'hyena', 'hyena', 'tiger', 'lion',\n",
              "        'cheetah', 'hyena', 'hyena', 'hyena', 'hyena', 'wolf', 'lion',\n",
              "        'lion', 'cheetah', 'hyena', 'tiger', 'cheetah', 'fox', 'fox',\n",
              "        'hyena', 'lion', 'cheetah', 'tiger', 'tiger', 'hyena', 'tiger',\n",
              "        'tiger', 'lion', 'lion', 'tiger', 'fox', 'wolf', 'fox', 'lion',\n",
              "        'hyena', 'hyena', 'hyena', 'fox', 'hyena', 'hyena', 'tiger',\n",
              "        'hyena', 'lion', 'tiger', 'lion', 'lion', 'tiger', 'wolf', 'hyena',\n",
              "        'lion', 'hyena', 'tiger', 'wolf', 'tiger', 'hyena', 'wolf', 'lion',\n",
              "        'lion', 'tiger', 'hyena', 'wolf', 'tiger', 'fox', 'hyena', 'fox',\n",
              "        'fox', 'hyena', 'lion', 'lion', 'lion', 'hyena', 'tiger', 'hyena',\n",
              "        'lion', 'cheetah', 'lion', 'tiger', 'lion', 'lion', 'fox', 'tiger',\n",
              "        'lion', 'tiger', 'wolf', 'tiger', 'fox', 'lion', 'hyena', 'lion',\n",
              "        'tiger', 'tiger', 'hyena', 'lion', 'tiger', 'lion', 'tiger',\n",
              "        'hyena', 'hyena', 'cheetah', 'lion', 'wolf', 'fox', 'hyena',\n",
              "        'tiger', 'lion', 'wolf', 'lion', 'lion', 'cheetah', 'lion', 'wolf',\n",
              "        'wolf', 'lion', 'lion', 'wolf', 'hyena', 'fox', 'wolf', 'hyena',\n",
              "        'fox', 'hyena', 'fox', 'hyena', 'wolf', 'tiger', 'fox', 'cheetah',\n",
              "        'wolf', 'fox', 'lion', 'fox', 'wolf', 'lion', 'fox', 'lion',\n",
              "        'tiger', 'hyena', 'tiger', 'fox', 'lion', 'fox', 'hyena', 'wolf',\n",
              "        'hyena', 'tiger', 'hyena', 'tiger', 'cheetah', 'cheetah', 'tiger',\n",
              "        'tiger', 'tiger', 'tiger', 'tiger', 'tiger', 'cheetah', 'tiger',\n",
              "        'tiger', 'tiger', 'hyena', 'tiger', 'cheetah', 'tiger', 'tiger',\n",
              "        'tiger', 'tiger', 'tiger', 'tiger', 'tiger', 'tiger', 'tiger',\n",
              "        'tiger', 'fox', 'tiger', 'wolf', 'tiger', 'tiger', 'hyena',\n",
              "        'tiger', 'tiger', 'lion', 'tiger', 'cheetah', 'tiger', 'tiger',\n",
              "        'lion', 'tiger', 'tiger', 'tiger', 'cheetah', 'lion', 'cheetah',\n",
              "        'tiger', 'tiger', 'tiger', 'tiger', 'cheetah', 'cheetah',\n",
              "        'cheetah', 'tiger', 'tiger', 'tiger', 'cheetah', 'tiger', 'fox',\n",
              "        'tiger', 'tiger', 'tiger', 'tiger', 'tiger', 'tiger', 'tiger',\n",
              "        'cheetah', 'tiger', 'wolf', 'cheetah', 'tiger', 'tiger', 'tiger',\n",
              "        'wolf', 'tiger', 'tiger', 'tiger', 'tiger', 'tiger', 'hyena',\n",
              "        'hyena', 'lion', 'lion', 'fox', 'wolf', 'hyena', 'wolf', 'fox',\n",
              "        'tiger', 'hyena', 'fox', 'lion', 'hyena', 'lion', 'lion', 'fox',\n",
              "        'wolf', 'hyena', 'wolf', 'wolf', 'wolf', 'hyena', 'fox', 'hyena',\n",
              "        'lion', 'lion', 'tiger', 'fox', 'tiger', 'tiger', 'hyena', 'hyena',\n",
              "        'tiger', 'hyena', 'wolf', 'fox', 'wolf', 'lion', 'tiger', 'hyena',\n",
              "        'lion', 'wolf', 'wolf', 'hyena', 'lion', 'wolf', 'wolf', 'lion',\n",
              "        'lion', 'tiger', 'wolf', 'tiger', 'hyena', 'lion', 'tiger',\n",
              "        'hyena', 'tiger', 'tiger', 'tiger', 'hyena', 'hyena', 'lion',\n",
              "        'tiger', 'fox', 'lion', 'wolf', 'tiger', 'fox', 'lion', 'lion',\n",
              "        'hyena', 'wolf', 'cheetah', 'wolf', 'hyena', 'fox', 'hyena',\n",
              "        'wolf'], dtype='<U7'))"
            ]
          },
          "metadata": {},
          "execution_count": 30
        }
      ]
    },
    {
      "cell_type": "code",
      "source": [
        "evaluate_model(\"/content/drive/MyDrive/ML_BOW_NBCmdl.pkl\", \"/content/drive/MyDrive/ML_BOW_codebook.pkl\")"
      ],
      "metadata": {
        "colab": {
          "base_uri": "https://localhost:8080/"
        },
        "id": "uK4QHsdfiAsh",
        "outputId": "87755fc3-6d56-479b-90c2-436e4b22b2c4"
      },
      "execution_count": 31,
      "outputs": [
        {
          "output_type": "execute_result",
          "data": {
            "text/plain": [
              "(0.38, array(['cheetah', 'tiger', 'cheetah', 'cheetah', 'wolf', 'cheetah',\n",
              "        'cheetah', 'tiger', 'cheetah', 'tiger', 'cheetah', 'cheetah',\n",
              "        'tiger', 'fox', 'hyena', 'cheetah', 'cheetah', 'cheetah', 'lion',\n",
              "        'cheetah', 'cheetah', 'tiger', 'cheetah', 'cheetah', 'tiger',\n",
              "        'tiger', 'tiger', 'cheetah', 'cheetah', 'lion', 'hyena', 'hyena',\n",
              "        'cheetah', 'cheetah', 'tiger', 'tiger', 'hyena', 'hyena',\n",
              "        'cheetah', 'hyena', 'tiger', 'cheetah', 'tiger', 'lion', 'cheetah',\n",
              "        'cheetah', 'wolf', 'cheetah', 'cheetah', 'hyena', 'tiger',\n",
              "        'cheetah', 'cheetah', 'hyena', 'cheetah', 'cheetah', 'tiger',\n",
              "        'tiger', 'cheetah', 'cheetah', 'cheetah', 'cheetah', 'cheetah',\n",
              "        'hyena', 'cheetah', 'tiger', 'lion', 'hyena', 'hyena', 'lion',\n",
              "        'cheetah', 'fox', 'hyena', 'tiger', 'cheetah', 'tiger', 'cheetah',\n",
              "        'cheetah', 'tiger', 'hyena', 'tiger', 'tiger', 'tiger', 'cheetah',\n",
              "        'lion', 'tiger', 'fox', 'tiger', 'wolf', 'cheetah', 'cheetah',\n",
              "        'tiger', 'cheetah', 'cheetah', 'fox', 'tiger', 'tiger', 'lion',\n",
              "        'tiger', 'tiger', 'lion', 'cheetah', 'tiger', 'fox', 'wolf',\n",
              "        'lion', 'lion', 'fox', 'hyena', 'tiger', 'fox', 'hyena', 'tiger',\n",
              "        'fox', 'wolf', 'wolf', 'wolf', 'fox', 'tiger', 'lion', 'fox',\n",
              "        'tiger', 'hyena', 'tiger', 'cheetah', 'fox', 'wolf', 'hyena',\n",
              "        'fox', 'fox', 'hyena', 'lion', 'hyena', 'wolf', 'tiger', 'wolf',\n",
              "        'tiger', 'tiger', 'hyena', 'fox', 'hyena', 'hyena', 'hyena', 'fox',\n",
              "        'tiger', 'fox', 'hyena', 'hyena', 'tiger', 'fox', 'fox', 'fox',\n",
              "        'fox', 'hyena', 'lion', 'tiger', 'tiger', 'wolf', 'fox', 'fox',\n",
              "        'wolf', 'tiger', 'fox', 'tiger', 'wolf', 'fox', 'lion', 'lion',\n",
              "        'lion', 'lion', 'fox', 'hyena', 'hyena', 'wolf', 'hyena', 'fox',\n",
              "        'hyena', 'cheetah', 'tiger', 'hyena', 'wolf', 'cheetah', 'wolf',\n",
              "        'cheetah', 'hyena', 'wolf', 'tiger', 'fox', 'wolf', 'tiger',\n",
              "        'hyena', 'lion', 'lion', 'fox', 'wolf', 'wolf', 'hyena', 'wolf',\n",
              "        'cheetah', 'hyena', 'hyena', 'hyena', 'hyena', 'tiger', 'hyena',\n",
              "        'cheetah', 'hyena', 'tiger', 'wolf', 'fox', 'fox', 'cheetah',\n",
              "        'cheetah', 'fox', 'hyena', 'hyena', 'hyena', 'hyena', 'hyena',\n",
              "        'fox', 'cheetah', 'fox', 'lion', 'hyena', 'hyena', 'tiger',\n",
              "        'hyena', 'lion', 'hyena', 'hyena', 'tiger', 'hyena', 'fox', 'lion',\n",
              "        'hyena', 'fox', 'fox', 'lion', 'tiger', 'hyena', 'tiger', 'fox',\n",
              "        'hyena', 'fox', 'tiger', 'fox', 'wolf', 'fox', 'fox', 'hyena',\n",
              "        'lion', 'hyena', 'fox', 'tiger', 'fox', 'hyena', 'fox', 'wolf',\n",
              "        'hyena', 'fox', 'lion', 'tiger', 'wolf', 'hyena', 'hyena', 'fox',\n",
              "        'tiger', 'wolf', 'tiger', 'fox', 'tiger', 'lion', 'hyena', 'tiger',\n",
              "        'hyena', 'wolf', 'fox', 'wolf', 'lion', 'tiger', 'wolf', 'hyena',\n",
              "        'lion', 'lion', 'wolf', 'hyena', 'tiger', 'lion', 'lion', 'lion',\n",
              "        'lion', 'hyena', 'lion', 'lion', 'tiger', 'tiger', 'lion', 'tiger',\n",
              "        'lion', 'cheetah', 'wolf', 'fox', 'fox', 'lion', 'tiger', 'tiger',\n",
              "        'wolf', 'fox', 'tiger', 'lion', 'tiger', 'cheetah', 'fox',\n",
              "        'cheetah', 'lion', 'lion', 'fox', 'hyena', 'tiger', 'fox', 'wolf',\n",
              "        'hyena', 'lion', 'lion', 'fox', 'tiger', 'wolf', 'lion', 'lion',\n",
              "        'wolf', 'hyena', 'hyena', 'lion', 'tiger', 'tiger', 'hyena',\n",
              "        'wolf', 'fox', 'wolf', 'cheetah', 'tiger', 'tiger', 'wolf',\n",
              "        'hyena', 'lion', 'fox', 'lion', 'lion', 'wolf', 'wolf', 'hyena',\n",
              "        'lion', 'tiger', 'fox', 'wolf', 'hyena', 'tiger', 'wolf', 'lion',\n",
              "        'tiger', 'hyena', 'tiger', 'tiger', 'lion', 'tiger', 'tiger',\n",
              "        'tiger', 'tiger', 'tiger', 'tiger', 'tiger', 'tiger', 'tiger',\n",
              "        'tiger', 'hyena', 'tiger', 'cheetah', 'tiger', 'tiger', 'wolf',\n",
              "        'tiger', 'tiger', 'tiger', 'tiger', 'tiger', 'lion', 'tiger',\n",
              "        'lion', 'tiger', 'tiger', 'cheetah', 'tiger', 'cheetah', 'cheetah',\n",
              "        'cheetah', 'lion', 'tiger', 'cheetah', 'tiger', 'tiger', 'fox',\n",
              "        'tiger', 'tiger', 'tiger', 'cheetah', 'wolf', 'tiger', 'tiger',\n",
              "        'tiger', 'tiger', 'tiger', 'tiger', 'tiger', 'tiger', 'tiger',\n",
              "        'tiger', 'tiger', 'cheetah', 'tiger', 'hyena', 'tiger', 'tiger',\n",
              "        'tiger', 'tiger', 'tiger', 'cheetah', 'tiger', 'wolf', 'hyena',\n",
              "        'tiger', 'cheetah', 'tiger', 'tiger', 'tiger', 'hyena', 'tiger',\n",
              "        'tiger', 'tiger', 'tiger', 'tiger', 'hyena', 'hyena', 'lion',\n",
              "        'lion', 'wolf', 'lion', 'hyena', 'wolf', 'hyena', 'tiger', 'tiger',\n",
              "        'fox', 'lion', 'hyena', 'tiger', 'lion', 'fox', 'wolf', 'wolf',\n",
              "        'hyena', 'tiger', 'wolf', 'hyena', 'wolf', 'hyena', 'lion', 'wolf',\n",
              "        'tiger', 'fox', 'tiger', 'lion', 'hyena', 'hyena', 'wolf', 'wolf',\n",
              "        'hyena', 'fox', 'wolf', 'lion', 'tiger', 'lion', 'hyena', 'wolf',\n",
              "        'wolf', 'hyena', 'lion', 'tiger', 'wolf', 'lion', 'hyena', 'tiger',\n",
              "        'tiger', 'hyena', 'fox', 'lion', 'tiger', 'hyena', 'tiger',\n",
              "        'tiger', 'lion', 'hyena', 'lion', 'hyena', 'tiger', 'hyena',\n",
              "        'wolf', 'fox', 'tiger', 'hyena', 'lion', 'lion', 'fox', 'wolf',\n",
              "        'wolf', 'wolf', 'hyena', 'fox', 'fox', 'wolf'], dtype='<U7'))"
            ]
          },
          "metadata": {},
          "execution_count": 31
        }
      ]
    },
    {
      "cell_type": "code",
      "source": [
        "evaluate_model(\"/content/drive/MyDrive/ML_BOW_SVMmdl.pkl\", \"/content/drive/MyDrive/ML_BOW_codebook.pkl\")"
      ],
      "metadata": {
        "colab": {
          "base_uri": "https://localhost:8080/"
        },
        "id": "ZeuQ82jEiAvW",
        "outputId": "9116944e-3f97-4198-c7a6-1a0c585ead61"
      },
      "execution_count": 32,
      "outputs": [
        {
          "output_type": "execute_result",
          "data": {
            "text/plain": [
              "(0.41,\n",
              " array(['fox', 'cheetah', 'hyena', 'cheetah', 'wolf', 'cheetah', 'cheetah',\n",
              "        'tiger', 'cheetah', 'cheetah', 'tiger', 'cheetah', 'cheetah',\n",
              "        'hyena', 'hyena', 'cheetah', 'tiger', 'cheetah', 'lion', 'lion',\n",
              "        'cheetah', 'cheetah', 'cheetah', 'cheetah', 'cheetah', 'cheetah',\n",
              "        'cheetah', 'cheetah', 'cheetah', 'cheetah', 'hyena', 'cheetah',\n",
              "        'cheetah', 'fox', 'tiger', 'tiger', 'hyena', 'hyena', 'cheetah',\n",
              "        'fox', 'cheetah', 'cheetah', 'wolf', 'lion', 'wolf', 'cheetah',\n",
              "        'cheetah', 'cheetah', 'cheetah', 'hyena', 'cheetah', 'tiger',\n",
              "        'cheetah', 'hyena', 'cheetah', 'cheetah', 'cheetah', 'tiger',\n",
              "        'cheetah', 'cheetah', 'cheetah', 'cheetah', 'hyena', 'cheetah',\n",
              "        'cheetah', 'tiger', 'cheetah', 'hyena', 'hyena', 'lion', 'cheetah',\n",
              "        'hyena', 'cheetah', 'lion', 'cheetah', 'hyena', 'lion', 'cheetah',\n",
              "        'fox', 'hyena', 'tiger', 'lion', 'tiger', 'cheetah', 'lion',\n",
              "        'tiger', 'fox', 'cheetah', 'cheetah', 'cheetah', 'cheetah',\n",
              "        'hyena', 'cheetah', 'cheetah', 'lion', 'cheetah', 'hyena', 'lion',\n",
              "        'cheetah', 'cheetah', 'cheetah', 'cheetah', 'hyena', 'wolf',\n",
              "        'lion', 'lion', 'tiger', 'fox', 'hyena', 'wolf', 'hyena', 'hyena',\n",
              "        'tiger', 'wolf', 'wolf', 'fox', 'wolf', 'wolf', 'fox', 'fox',\n",
              "        'fox', 'tiger', 'fox', 'cheetah', 'fox', 'fox', 'lion', 'lion',\n",
              "        'lion', 'fox', 'wolf', 'lion', 'hyena', 'fox', 'cheetah', 'wolf',\n",
              "        'cheetah', 'tiger', 'hyena', 'fox', 'hyena', 'wolf', 'hyena',\n",
              "        'fox', 'tiger', 'lion', 'cheetah', 'wolf', 'fox', 'fox', 'wolf',\n",
              "        'wolf', 'fox', 'hyena', 'fox', 'hyena', 'lion', 'fox', 'fox',\n",
              "        'fox', 'cheetah', 'tiger', 'fox', 'lion', 'fox', 'fox', 'lion',\n",
              "        'fox', 'lion', 'fox', 'wolf', 'hyena', 'hyena', 'wolf', 'hyena',\n",
              "        'lion', 'hyena', 'lion', 'lion', 'cheetah', 'hyena', 'cheetah',\n",
              "        'wolf', 'cheetah', 'hyena', 'hyena', 'hyena', 'hyena', 'fox',\n",
              "        'lion', 'hyena', 'cheetah', 'hyena', 'wolf', 'lion', 'wolf',\n",
              "        'hyena', 'hyena', 'tiger', 'hyena', 'wolf', 'fox', 'hyena', 'wolf',\n",
              "        'hyena', 'cheetah', 'hyena', 'tiger', 'wolf', 'lion', 'fox',\n",
              "        'hyena', 'cheetah', 'wolf', 'hyena', 'wolf', 'cheetah', 'fox',\n",
              "        'hyena', 'tiger', 'hyena', 'fox', 'fox', 'hyena', 'hyena', 'hyena',\n",
              "        'hyena', 'hyena', 'fox', 'hyena', 'fox', 'hyena', 'hyena', 'tiger',\n",
              "        'hyena', 'fox', 'lion', 'lion', 'fox', 'hyena', 'tiger', 'wolf',\n",
              "        'hyena', 'lion', 'hyena', 'lion', 'wolf', 'lion', 'lion',\n",
              "        'cheetah', 'lion', 'hyena', 'hyena', 'hyena', 'hyena', 'cheetah',\n",
              "        'fox', 'hyena', 'hyena', 'hyena', 'lion', 'tiger', 'wolf', 'hyena',\n",
              "        'hyena', 'hyena', 'cheetah', 'wolf', 'lion', 'cheetah', 'wolf',\n",
              "        'lion', 'hyena', 'lion', 'lion', 'wolf', 'fox', 'lion', 'lion',\n",
              "        'lion', 'wolf', 'lion', 'lion', 'lion', 'lion', 'hyena', 'tiger',\n",
              "        'fox', 'lion', 'hyena', 'lion', 'hyena', 'wolf', 'lion', 'wolf',\n",
              "        'cheetah', 'wolf', 'tiger', 'wolf', 'hyena', 'fox', 'lion', 'lion',\n",
              "        'lion', 'tiger', 'fox', 'wolf', 'fox', 'fox', 'lion', 'tiger',\n",
              "        'wolf', 'fox', 'cheetah', 'lion', 'wolf', 'fox', 'wolf', 'tiger',\n",
              "        'fox', 'wolf', 'lion', 'lion', 'lion', 'fox', 'wolf', 'wolf',\n",
              "        'hyena', 'lion', 'wolf', 'hyena', 'cheetah', 'lion', 'fox', 'fox',\n",
              "        'hyena', 'wolf', 'lion', 'wolf', 'fox', 'fox', 'wolf', 'wolf',\n",
              "        'wolf', 'lion', 'fox', 'hyena', 'lion', 'wolf', 'wolf', 'tiger',\n",
              "        'lion', 'tiger', 'lion', 'lion', 'cheetah', 'hyena', 'wolf',\n",
              "        'lion', 'tiger', 'hyena', 'tiger', 'cheetah', 'cheetah', 'tiger',\n",
              "        'hyena', 'tiger', 'tiger', 'cheetah', 'tiger', 'cheetah',\n",
              "        'cheetah', 'tiger', 'tiger', 'cheetah', 'tiger', 'cheetah', 'lion',\n",
              "        'tiger', 'wolf', 'cheetah', 'tiger', 'hyena', 'tiger', 'hyena',\n",
              "        'lion', 'fox', 'lion', 'tiger', 'hyena', 'tiger', 'tiger', 'tiger',\n",
              "        'hyena', 'tiger', 'fox', 'tiger', 'cheetah', 'tiger', 'tiger',\n",
              "        'tiger', 'tiger', 'tiger', 'tiger', 'hyena', 'hyena', 'tiger',\n",
              "        'tiger', 'tiger', 'tiger', 'tiger', 'fox', 'cheetah', 'cheetah',\n",
              "        'cheetah', 'tiger', 'tiger', 'cheetah', 'lion', 'fox', 'tiger',\n",
              "        'tiger', 'hyena', 'cheetah', 'tiger', 'tiger', 'tiger', 'lion',\n",
              "        'hyena', 'hyena', 'hyena', 'fox', 'tiger', 'tiger', 'hyena',\n",
              "        'tiger', 'cheetah', 'cheetah', 'tiger', 'tiger', 'lion', 'hyena',\n",
              "        'lion', 'lion', 'fox', 'lion', 'wolf', 'wolf', 'hyena', 'hyena',\n",
              "        'hyena', 'fox', 'lion', 'hyena', 'lion', 'lion', 'fox', 'wolf',\n",
              "        'hyena', 'lion', 'cheetah', 'wolf', 'hyena', 'wolf', 'cheetah',\n",
              "        'fox', 'cheetah', 'fox', 'fox', 'wolf', 'lion', 'lion', 'hyena',\n",
              "        'lion', 'fox', 'wolf', 'wolf', 'fox', 'lion', 'cheetah', 'hyena',\n",
              "        'lion', 'wolf', 'wolf', 'wolf', 'fox', 'hyena', 'wolf', 'lion',\n",
              "        'wolf', 'tiger', 'wolf', 'lion', 'wolf', 'lion', 'wolf', 'wolf',\n",
              "        'tiger', 'wolf', 'lion', 'hyena', 'lion', 'wolf', 'tiger', 'fox',\n",
              "        'hyena', 'fox', 'wolf', 'fox', 'lion', 'lion', 'hyena', 'hyena',\n",
              "        'fox', 'wolf', 'hyena', 'fox', 'lion', 'hyena'], dtype='<U7'))"
            ]
          },
          "metadata": {},
          "execution_count": 32
        }
      ]
    },
    {
      "cell_type": "code",
      "source": [
        "from time import time\n",
        "from sklearn.metrics import ConfusionMatrixDisplay\n",
        "\n",
        "print(\"Predicting Image labels on the test set\")\n",
        "target_names = ['cheetah','fox','hyena','lion','tiger','wolf']\n",
        "t0 = time()\n",
        "acc ,y_pred = evaluate_model(\"/content/drive/MyDrive/ML_BOW_NBCmdl.pkl\", \"/content/drive/MyDrive/ML_BOW_codebook.pkl\")\n",
        "print(\"done in %0.3fs\" % (time() - t0))\n",
        "\n",
        "print(classification_report(test_labels, y_pred, target_names=target_names))\n",
        "ConfusionMatrixDisplay.from_estimator(\n",
        "    nbc_mdl, test_images, test_labels, display_labels=target_names, xticks_rotation=\"vertical\"\n",
        ")\n",
        "plt.tight_layout()\n",
        "plt.show()"
      ],
      "metadata": {
        "colab": {
          "base_uri": "https://localhost:8080/",
          "height": 1000
        },
        "id": "jOY-bjeEiAyA",
        "outputId": "7e495bee-4624-4f28-f7fe-848f519d8ff2"
      },
      "execution_count": 33,
      "outputs": [
        {
          "output_type": "stream",
          "name": "stdout",
          "text": [
            "Predicting Image labels on the test set\n",
            "done in 8.588s\n",
            "              precision    recall  f1-score   support\n",
            "\n",
            "     cheetah       0.66      0.43      0.52       104\n",
            "         fox       0.31      0.28      0.29        75\n",
            "       hyena       0.30      0.33      0.31        92\n",
            "        lion       0.37      0.30      0.33        88\n",
            "       tiger       0.39      0.72      0.50        81\n",
            "        wolf       0.29      0.23      0.25        79\n",
            "\n",
            "    accuracy                           0.38       519\n",
            "   macro avg       0.39      0.38      0.37       519\n",
            "weighted avg       0.40      0.38      0.38       519\n",
            "\n"
          ]
        },
        {
          "output_type": "error",
          "ename": "ValueError",
          "evalue": "ignored",
          "traceback": [
            "\u001b[0;31m---------------------------------------------------------------------------\u001b[0m",
            "\u001b[0;31mValueError\u001b[0m                                Traceback (most recent call last)",
            "\u001b[0;32m<ipython-input-33-847e5a29e079>\u001b[0m in \u001b[0;36m<module>\u001b[0;34m\u001b[0m\n\u001b[1;32m     10\u001b[0m \u001b[0mprint\u001b[0m\u001b[0;34m(\u001b[0m\u001b[0mclassification_report\u001b[0m\u001b[0;34m(\u001b[0m\u001b[0mtest_labels\u001b[0m\u001b[0;34m,\u001b[0m \u001b[0my_pred\u001b[0m\u001b[0;34m,\u001b[0m \u001b[0mtarget_names\u001b[0m\u001b[0;34m=\u001b[0m\u001b[0mtarget_names\u001b[0m\u001b[0;34m)\u001b[0m\u001b[0;34m)\u001b[0m\u001b[0;34m\u001b[0m\u001b[0;34m\u001b[0m\u001b[0m\n\u001b[1;32m     11\u001b[0m ConfusionMatrixDisplay.from_estimator(\n\u001b[0;32m---> 12\u001b[0;31m     \u001b[0mnbc_mdl\u001b[0m\u001b[0;34m,\u001b[0m \u001b[0mtest_images\u001b[0m\u001b[0;34m,\u001b[0m \u001b[0mtest_labels\u001b[0m\u001b[0;34m,\u001b[0m \u001b[0mdisplay_labels\u001b[0m\u001b[0;34m=\u001b[0m\u001b[0mtarget_names\u001b[0m\u001b[0;34m,\u001b[0m \u001b[0mxticks_rotation\u001b[0m\u001b[0;34m=\u001b[0m\u001b[0;34m\"vertical\"\u001b[0m\u001b[0;34m\u001b[0m\u001b[0;34m\u001b[0m\u001b[0m\n\u001b[0m\u001b[1;32m     13\u001b[0m )\n\u001b[1;32m     14\u001b[0m \u001b[0mplt\u001b[0m\u001b[0;34m.\u001b[0m\u001b[0mtight_layout\u001b[0m\u001b[0;34m(\u001b[0m\u001b[0;34m)\u001b[0m\u001b[0;34m\u001b[0m\u001b[0;34m\u001b[0m\u001b[0m\n",
            "\u001b[0;32m/usr/local/lib/python3.7/dist-packages/sklearn/metrics/_plot/confusion_matrix.py\u001b[0m in \u001b[0;36mfrom_estimator\u001b[0;34m(cls, estimator, X, y, labels, sample_weight, normalize, display_labels, include_values, xticks_rotation, values_format, cmap, ax, colorbar)\u001b[0m\n\u001b[1;32m    290\u001b[0m         \u001b[0;32mif\u001b[0m \u001b[0;32mnot\u001b[0m \u001b[0mis_classifier\u001b[0m\u001b[0;34m(\u001b[0m\u001b[0mestimator\u001b[0m\u001b[0;34m)\u001b[0m\u001b[0;34m:\u001b[0m\u001b[0;34m\u001b[0m\u001b[0;34m\u001b[0m\u001b[0m\n\u001b[1;32m    291\u001b[0m             \u001b[0;32mraise\u001b[0m \u001b[0mValueError\u001b[0m\u001b[0;34m(\u001b[0m\u001b[0;34mf\"{method_name} only supports classifiers\"\u001b[0m\u001b[0;34m)\u001b[0m\u001b[0;34m\u001b[0m\u001b[0;34m\u001b[0m\u001b[0m\n\u001b[0;32m--> 292\u001b[0;31m         \u001b[0my_pred\u001b[0m \u001b[0;34m=\u001b[0m \u001b[0mestimator\u001b[0m\u001b[0;34m.\u001b[0m\u001b[0mpredict\u001b[0m\u001b[0;34m(\u001b[0m\u001b[0mX\u001b[0m\u001b[0;34m)\u001b[0m\u001b[0;34m\u001b[0m\u001b[0;34m\u001b[0m\u001b[0m\n\u001b[0m\u001b[1;32m    293\u001b[0m \u001b[0;34m\u001b[0m\u001b[0m\n\u001b[1;32m    294\u001b[0m         return cls.from_predictions(\n",
            "\u001b[0;32m/usr/local/lib/python3.7/dist-packages/sklearn/naive_bayes.py\u001b[0m in \u001b[0;36mpredict\u001b[0;34m(self, X)\u001b[0m\n\u001b[1;32m     80\u001b[0m         \"\"\"\n\u001b[1;32m     81\u001b[0m         \u001b[0mcheck_is_fitted\u001b[0m\u001b[0;34m(\u001b[0m\u001b[0mself\u001b[0m\u001b[0;34m)\u001b[0m\u001b[0;34m\u001b[0m\u001b[0;34m\u001b[0m\u001b[0m\n\u001b[0;32m---> 82\u001b[0;31m         \u001b[0mX\u001b[0m \u001b[0;34m=\u001b[0m \u001b[0mself\u001b[0m\u001b[0;34m.\u001b[0m\u001b[0m_check_X\u001b[0m\u001b[0;34m(\u001b[0m\u001b[0mX\u001b[0m\u001b[0;34m)\u001b[0m\u001b[0;34m\u001b[0m\u001b[0;34m\u001b[0m\u001b[0m\n\u001b[0m\u001b[1;32m     83\u001b[0m         \u001b[0mjll\u001b[0m \u001b[0;34m=\u001b[0m \u001b[0mself\u001b[0m\u001b[0;34m.\u001b[0m\u001b[0m_joint_log_likelihood\u001b[0m\u001b[0;34m(\u001b[0m\u001b[0mX\u001b[0m\u001b[0;34m)\u001b[0m\u001b[0;34m\u001b[0m\u001b[0;34m\u001b[0m\u001b[0m\n\u001b[1;32m     84\u001b[0m         \u001b[0;32mreturn\u001b[0m \u001b[0mself\u001b[0m\u001b[0;34m.\u001b[0m\u001b[0mclasses_\u001b[0m\u001b[0;34m[\u001b[0m\u001b[0mnp\u001b[0m\u001b[0;34m.\u001b[0m\u001b[0margmax\u001b[0m\u001b[0;34m(\u001b[0m\u001b[0mjll\u001b[0m\u001b[0;34m,\u001b[0m \u001b[0maxis\u001b[0m\u001b[0;34m=\u001b[0m\u001b[0;36m1\u001b[0m\u001b[0;34m)\u001b[0m\u001b[0;34m]\u001b[0m\u001b[0;34m\u001b[0m\u001b[0;34m\u001b[0m\u001b[0m\n",
            "\u001b[0;32m/usr/local/lib/python3.7/dist-packages/sklearn/naive_bayes.py\u001b[0m in \u001b[0;36m_check_X\u001b[0;34m(self, X)\u001b[0m\n\u001b[1;32m    249\u001b[0m     \u001b[0;32mdef\u001b[0m \u001b[0m_check_X\u001b[0m\u001b[0;34m(\u001b[0m\u001b[0mself\u001b[0m\u001b[0;34m,\u001b[0m \u001b[0mX\u001b[0m\u001b[0;34m)\u001b[0m\u001b[0;34m:\u001b[0m\u001b[0;34m\u001b[0m\u001b[0;34m\u001b[0m\u001b[0m\n\u001b[1;32m    250\u001b[0m         \u001b[0;34m\"\"\"Validate X, used only in predict* methods.\"\"\"\u001b[0m\u001b[0;34m\u001b[0m\u001b[0;34m\u001b[0m\u001b[0m\n\u001b[0;32m--> 251\u001b[0;31m         \u001b[0;32mreturn\u001b[0m \u001b[0mself\u001b[0m\u001b[0;34m.\u001b[0m\u001b[0m_validate_data\u001b[0m\u001b[0;34m(\u001b[0m\u001b[0mX\u001b[0m\u001b[0;34m,\u001b[0m \u001b[0mreset\u001b[0m\u001b[0;34m=\u001b[0m\u001b[0;32mFalse\u001b[0m\u001b[0;34m)\u001b[0m\u001b[0;34m\u001b[0m\u001b[0;34m\u001b[0m\u001b[0m\n\u001b[0m\u001b[1;32m    252\u001b[0m \u001b[0;34m\u001b[0m\u001b[0m\n\u001b[1;32m    253\u001b[0m     \u001b[0;34m@\u001b[0m\u001b[0mstaticmethod\u001b[0m\u001b[0;34m\u001b[0m\u001b[0;34m\u001b[0m\u001b[0m\n",
            "\u001b[0;32m/usr/local/lib/python3.7/dist-packages/sklearn/base.py\u001b[0m in \u001b[0;36m_validate_data\u001b[0;34m(self, X, y, reset, validate_separately, **check_params)\u001b[0m\n\u001b[1;32m    564\u001b[0m             \u001b[0;32mraise\u001b[0m \u001b[0mValueError\u001b[0m\u001b[0;34m(\u001b[0m\u001b[0;34m\"Validation should be done on X, y or both.\"\u001b[0m\u001b[0;34m)\u001b[0m\u001b[0;34m\u001b[0m\u001b[0;34m\u001b[0m\u001b[0m\n\u001b[1;32m    565\u001b[0m         \u001b[0;32melif\u001b[0m \u001b[0;32mnot\u001b[0m \u001b[0mno_val_X\u001b[0m \u001b[0;32mand\u001b[0m \u001b[0mno_val_y\u001b[0m\u001b[0;34m:\u001b[0m\u001b[0;34m\u001b[0m\u001b[0;34m\u001b[0m\u001b[0m\n\u001b[0;32m--> 566\u001b[0;31m             \u001b[0mX\u001b[0m \u001b[0;34m=\u001b[0m \u001b[0mcheck_array\u001b[0m\u001b[0;34m(\u001b[0m\u001b[0mX\u001b[0m\u001b[0;34m,\u001b[0m \u001b[0;34m**\u001b[0m\u001b[0mcheck_params\u001b[0m\u001b[0;34m)\u001b[0m\u001b[0;34m\u001b[0m\u001b[0;34m\u001b[0m\u001b[0m\n\u001b[0m\u001b[1;32m    567\u001b[0m             \u001b[0mout\u001b[0m \u001b[0;34m=\u001b[0m \u001b[0mX\u001b[0m\u001b[0;34m\u001b[0m\u001b[0;34m\u001b[0m\u001b[0m\n\u001b[1;32m    568\u001b[0m         \u001b[0;32melif\u001b[0m \u001b[0mno_val_X\u001b[0m \u001b[0;32mand\u001b[0m \u001b[0;32mnot\u001b[0m \u001b[0mno_val_y\u001b[0m\u001b[0;34m:\u001b[0m\u001b[0;34m\u001b[0m\u001b[0;34m\u001b[0m\u001b[0m\n",
            "\u001b[0;32m/usr/local/lib/python3.7/dist-packages/sklearn/utils/validation.py\u001b[0m in \u001b[0;36mcheck_array\u001b[0;34m(array, accept_sparse, accept_large_sparse, dtype, order, copy, force_all_finite, ensure_2d, allow_nd, ensure_min_samples, ensure_min_features, estimator)\u001b[0m\n\u001b[1;32m    771\u001b[0m                     \u001b[0;34m\"Reshape your data either using array.reshape(-1, 1) if \"\u001b[0m\u001b[0;34m\u001b[0m\u001b[0;34m\u001b[0m\u001b[0m\n\u001b[1;32m    772\u001b[0m                     \u001b[0;34m\"your data has a single feature or array.reshape(1, -1) \"\u001b[0m\u001b[0;34m\u001b[0m\u001b[0;34m\u001b[0m\u001b[0m\n\u001b[0;32m--> 773\u001b[0;31m                     \u001b[0;34m\"if it contains a single sample.\"\u001b[0m\u001b[0;34m.\u001b[0m\u001b[0mformat\u001b[0m\u001b[0;34m(\u001b[0m\u001b[0marray\u001b[0m\u001b[0;34m)\u001b[0m\u001b[0;34m\u001b[0m\u001b[0;34m\u001b[0m\u001b[0m\n\u001b[0m\u001b[1;32m    774\u001b[0m                 )\n\u001b[1;32m    775\u001b[0m \u001b[0;34m\u001b[0m\u001b[0m\n",
            "\u001b[0;31mValueError\u001b[0m: Expected 2D array, got 1D array instead:\narray=['/content/drive/MyDrive/valtest_size_300/cheetah/00000007_300resized.png'\n '/content/drive/MyDrive/valtest_size_300/cheetah/00000003_300resized.png'\n '/content/drive/MyDrive/valtest_size_300/cheetah/00000011_300resized.png'\n '/content/drive/MyDrive/valtest_size_300/cheetah/00000000_300resized.png'\n '/content/drive/MyDrive/valtest_size_300/cheetah/00000014_300resized.png'\n '/content/drive/MyDrive/valtest_size_300/cheetah/00000009_300resized.png'\n '/content/drive/MyDrive/valtest_size_300/cheetah/00000010_300resized.png'\n '/content/drive/MyDrive/valtest_size_300/cheetah/00000012_300resized.png'\n '/content/drive/MyDrive/valtest_size_300/cheetah/00000002_300resized.png'\n '/content/drive/MyDrive/valtest_size_300/cheetah/00000005_300resized.png'\n '/content/drive/MyDrive/valtest_size_300/cheetah/00000008_300resized.png'\n '/content/drive/MyDrive/valtest_size_300/cheetah/00000001_300resized.png'\n '/content/drive/MyDrive/valtest_size_300/cheetah/00000004_300resized.png'\n '/content/drive/MyDrive/valtest_size_300/cheetah/00000022_300resized.png'\n '/content/drive/MyDrive/valtest_size_300/cheetah/00000020_300resized.png'\n '/content/drive/MyDrive/valtest_size_300/cheetah/00000033_300resized.png'\n '/content/drive/MyDrive/valtest_size_300/cheetah/00000038_300resized.png'\n '/content/drive/MyDrive/valtest_size_300/cheetah/00000021_300resized.png'\n '/content/drive/MyDrive/valtest_size_300/cheetah/00000031_300resized.png'\n '/content/drive/MyDrive/valtest_size_300/cheetah/00000034_300resized.png'\n '/content/drive/MyDrive/valtest_size_300/cheetah/00000015_300resized.png'\n '/content/drive/MyDrive/valtest_size_300/cheetah/00000032_300resized.png'\n '/content/drive/MyDrive/valtest_size_300/cheetah/00000025_300resized.png'\n '/content/drive/MyDrive/valtest_size_300/cheetah/00000027_300resized.png'\n '/content/drive/MyDrive/valtest_size_300/cheetah/00000018_300resized.png'\n '/content/drive/MyDrive/valtest_size_300/cheetah/00000040_300resized.png'\n '/content/drive/MyDrive/valtest_size_300/cheetah/00000035_300resized.png'\n '/content/drive/MyDrive/valtest_size_300/cheetah/00000030_300resized.png'\n '/content/drive/MyDrive/valtest_size_300/cheetah/00000019_300resized.png'\n '/content/drive/MyDrive/valtest_size_300/cheetah/00000023_300resized.png'\n '/content/drive/MyDrive/valtest_size_300/cheetah/00000039_300resized.png'\n '/content/drive/MyDrive/valtest_size_300/cheetah/00000029_300resized.png'\n '/content/drive/MyDrive/valtest_size_300/cheetah/00000037_300resized.png'\n '/content/drive/MyDrive/valtest_size_300/cheetah/00000017_300resized.png'\n '/content/drive/MyDrive/valtest_size_300/cheetah/00000028_300resized.png'\n '/content/drive/MyDrive/valtest_size_300/cheetah/00000036_300resized.png'\n '/content/drive/MyDrive/valtest_size_300/cheetah/00000041_300resized.png'\n '/content/drive/MyDrive/valtest_size_300/cheetah/00000068_300resized.png'\n '/content/drive/MyDrive/valtest_size_300/cheetah/00000067_300resized.png'\n '/content/drive/MyDrive/valtest_size_300/cheetah/00000049_300resized.png'\n '/content/drive/MyDrive/valtest_size_300/cheetah/00000063_300resized.png'\n '/content/drive/MyDrive/valtest_size_300/cheetah/00000065_300resized.png'\n '/content/drive/MyDrive/valtest_size_300/cheetah/00000051_300resized.png'\n '/content/drive/MyDrive/valtest_size_300/cheetah/00000059_300resized.png'\n '/content/drive/MyDrive/valtest_size_300/cheetah/00000060_300resized.png'\n '/content/drive/MyDrive/valtest_size_300/cheetah/00000042_300resized.png'\n '/content/drive/MyDrive/valtest_size_300/cheetah/00000061_300resized.png'\n '/content/drive/MyDrive/valtest_size_300/cheetah/00000055_300resized.png'\n '/content/drive/MyDrive/valtest_size_300/cheetah/00000044_300resized.png'\n '/content/drive/MyDrive/valtest_size_300/cheetah/00000052_300resized.png'\n '/content/drive/MyDrive/valtest_size_300/cheetah/00000066_300resized.png'\n '/content/drive/MyDrive/valtest_size_300/cheetah/00000054_300resized.png'\n '/content/drive/MyDrive/valtest_size_300/cheetah/00000056_300resized.png'\n '/content/drive/MyDrive/valtest_size_300/cheetah/00000058_300resized.png'\n '/content/drive/MyDrive/valtest_size_300/cheetah/00000057_300resized.png'\n '/content/drive/MyDrive/valtest_size_300/cheetah/00000062_300resized.png'\n '/content/drive/MyDrive/valtest_size_300/cheetah/00000050_300resized.png'\n '/content/drive/MyDrive/valtest_size_300/cheetah/00000043_300resized.png'\n '/content/drive/MyDrive/valtest_size_300/cheetah/00000092_300resized.png'\n '/content/drive/MyDrive/valtest_size_300/cheetah/00000095_300resized.png'\n '/content/drive/MyDrive/valtest_size_300/cheetah/00000072_300resized.png'\n '/content/drive/MyDrive/valtest_size_300/cheetah/00000083_300resized.png'\n '/content/drive/MyDrive/valtest_size_300/cheetah/00000077_300resized.png'\n '/content/drive/MyDrive/valtest_size_300/cheetah/00000084_300resized.png'\n '/content/drive/MyDrive/valtest_size_300/cheetah/00000086_300resized.png'\n '/content/drive/MyDrive/valtest_size_300/cheetah/00000096_300resized.png'\n '/content/drive/MyDrive/valtest_size_300/cheetah/00000080_300resized.png'\n '/content/drive/MyDrive/valtest_size_300/cheetah/00000089_300resized.png'\n '/content/drive/MyDrive/valtest_size_300/cheetah/00000097_300resized.png'\n '/content/drive/MyDrive/valtest_size_300/cheetah/00000094_300resized.png'\n '/content/drive/MyDrive/valtest_size_300/cheetah/00000070_300resized.png'\n '/content/drive/MyDrive/valtest_size_300/cheetah/00000073_300resized.png'\n '/content/drive/MyDrive/valtest_size_300/cheetah/00000091_300resized.png'\n '/content/drive/MyDrive/valtest_size_300/cheetah/00000101_300resized.png'\n '/content/drive/MyDrive/valtest_size_300/cheetah/00000079_300resized.png'\n '/content/drive/MyDrive/valtest_size_300/cheetah/00000088_300resized.png'\n '/content/drive/MyDrive/valtest_size_300/cheetah/00000098_300resized.png'\n '/content/drive/MyDrive/valtest_size_300/cheetah/00000087_300resized.png'\n '/content/drive/MyDrive/valtest_size_300/cheetah/00000081_300resized.png'\n '/content/drive/MyDrive/valtest_size_300/cheetah/00000078_300resized.png'\n '/content/drive/MyDrive/valtest_size_300/cheetah/00000102_300resized.png'\n '/content/drive/MyDrive/valtest_size_300/cheetah/00000085_300resized.png'\n '/content/drive/MyDrive/valtest_size_300/cheetah/00000118_300resized.png'\n '/content/drive/MyDrive/valtest_size_300/cheetah/00000108_300resized.png'\n '/content/drive/MyDrive/valtest_size_300/cheetah/00000113_300resized.png'\n '/content/drive/MyDrive/valtest_size_300/cheetah/00000131_300resized.png'\n '/content/drive/MyDrive/valtest_size_300/cheetah/00000126_300resized.png'\n '/content/drive/MyDrive/valtest_size_300/cheetah/00000116_300resized.png'\n '/content/drive/MyDrive/valtest_size_300/cheetah/00000120_300resized.png'\n '/content/drive/MyDrive/valtest_size_300/cheetah/00000136_300resized.png'\n '/content/drive/MyDrive/valtest_size_300/cheetah/00000129_300resized.png'\n '/content/drive/MyDrive/valtest_size_300/cheetah/00000111_300resized.png'\n '/content/drive/MyDrive/valtest_size_300/cheetah/00000122_300resized.png'\n '/content/drive/MyDrive/valtest_size_300/cheetah/00000125_300resized.png'\n '/content/drive/MyDrive/valtest_size_300/cheetah/00000132_300resized.png'\n '/content/drive/MyDrive/valtest_size_300/cheetah/00000117_300resized.png'\n '/content/drive/MyDrive/valtest_size_300/cheetah/00000134_300resized.png'\n '/content/drive/MyDrive/valtest_size_300/cheetah/00000124_300resized.png'\n '/content/drive/MyDrive/valtest_size_300/cheetah/00000119_300resized.png'\n '/content/drive/MyDrive/valtest_size_300/cheetah/00000115_300resized.png'\n '/content/drive/MyDrive/valtest_size_300/cheetah/00000127_300resized.png'\n '/content/drive/MyDrive/valtest_size_300/cheetah/00000103_300resized.png'\n '/content/drive/MyDrive/valtest_size_300/cheetah/00000104_300resized.png'\n '/content/drive/MyDrive/valtest_size_300/cheetah/00000109_300resized.png'\n '/content/drive/MyDrive/valtest_size_300/fox/00000013_300resized.png'\n '/content/drive/MyDrive/valtest_size_300/fox/00000001_300resized.png'\n '/content/drive/MyDrive/valtest_size_300/fox/00000006_300resized.png'\n '/content/drive/MyDrive/valtest_size_300/fox/00000003_300resized.png'\n '/content/drive/MyDrive/valtest_size_300/fox/00000011_300resized.png'\n '/content/drive/MyDrive/valtest_size_300/fox/00000000_300resized.png'\n '/content/drive/MyDrive/valtest_size_300/fox/00000007_300resized.png'\n '/content/drive/MyDrive/valtest_size_300/fox/00000014_300resized.png'\n '/content/drive/MyDrive/valtest_size_300/fox/00000004_300resized.png'\n '/content/drive/MyDrive/valtest_size_300/fox/00000012_300resized.png'\n '/content/drive/MyDrive/valtest_size_300/fox/00000002_300resized.png'\n '/content/drive/MyDrive/valtest_size_300/fox/00000008_300resized.png'\n '/content/drive/MyDrive/valtest_size_300/fox/00000041_300resized.png'\n '/content/drive/MyDrive/valtest_size_300/fox/00000029_300resized.png'\n '/content/drive/MyDrive/valtest_size_300/fox/00000030_300resized.png'\n '/content/drive/MyDrive/valtest_size_300/fox/00000028_300resized.png'\n '/content/drive/MyDrive/valtest_size_300/fox/00000015_300resized.png'\n '/content/drive/MyDrive/valtest_size_300/fox/00000018_300resized.png'\n '/content/drive/MyDrive/valtest_size_300/fox/00000032_300resized.png'\n '/content/drive/MyDrive/valtest_size_300/fox/00000044_300resized.png'\n '/content/drive/MyDrive/valtest_size_300/fox/00000027_300resized.png'\n '/content/drive/MyDrive/valtest_size_300/fox/00000040_300resized.png'\n '/content/drive/MyDrive/valtest_size_300/fox/00000047_300resized.png'\n '/content/drive/MyDrive/valtest_size_300/fox/00000046_300resized.png'\n '/content/drive/MyDrive/valtest_size_300/fox/00000036_300resized.png'\n '/content/drive/MyDrive/valtest_size_300/fox/00000042_300resized.png'\n '/content/drive/MyDrive/valtest_size_300/fox/00000035_300resized.png'\n '/content/drive/MyDrive/valtest_size_300/fox/00000016_300resized.png'\n '/content/drive/MyDrive/valtest_size_300/fox/00000017_300resized.png'\n '/content/drive/MyDrive/valtest_size_300/fox/00000038_300resized.png'\n '/content/drive/MyDrive/valtest_size_300/fox/00000039_300resized.png'\n '/content/drive/MyDrive/valtest_size_300/fox/00000043_300resized.png'\n '/content/drive/MyDrive/valtest_size_300/fox/00000019_300resized.png'\n '/content/drive/MyDrive/valtest_size_300/fox/00000033_300resized.png'\n '/content/drive/MyDrive/valtest_size_300/fox/00000037_300resized.png'\n '/content/drive/MyDrive/valtest_size_300/fox/00000026_300resized.png'\n '/content/drive/MyDrive/valtest_size_300/fox/00000058_300resized.png'\n '/content/drive/MyDrive/valtest_size_300/fox/00000048_300resized.png'\n '/content/drive/MyDrive/valtest_size_300/fox/00000065_300resized.png'\n '/content/drive/MyDrive/valtest_size_300/fox/00000076_300resized.png'\n '/content/drive/MyDrive/valtest_size_300/fox/00000063_300resized.png'\n '/content/drive/MyDrive/valtest_size_300/fox/00000061_300resized.png'\n '/content/drive/MyDrive/valtest_size_300/fox/00000052_300resized.png'\n '/content/drive/MyDrive/valtest_size_300/fox/00000070_300resized.png'\n '/content/drive/MyDrive/valtest_size_300/fox/00000077_300resized.png'\n '/content/drive/MyDrive/valtest_size_300/fox/00000049_300resized.png'\n '/content/drive/MyDrive/valtest_size_300/fox/00000062_300resized.png'\n '/content/drive/MyDrive/valtest_size_300/fox/00000073_300resized.png'\n '/content/drive/MyDrive/valtest_size_300/fox/00000050_300resized.png'\n '/content/drive/MyDrive/valtest_size_300/fox/00000066_300resized.png'\n '/content/drive/MyDrive/valtest_size_300/fox/00000054_300resized.png'\n '/content/drive/MyDrive/valtest_size_300/fox/00000078_300resized.png'\n '/content/drive/MyDrive/valtest_size_300/fox/00000068_300resized.png'\n '/content/drive/MyDrive/valtest_size_300/fox/00000051_300resized.png'\n '/content/drive/MyDrive/valtest_size_300/fox/00000072_300resized.png'\n '/content/drive/MyDrive/valtest_size_300/fox/00000064_300resized.png'\n '/content/drive/MyDrive/valtest_size_300/fox/00000053_300resized.png'\n '/content/drive/MyDrive/valtest_size_300/fox/00000060_300resized.png'\n '/content/drive/MyDrive/valtest_size_300/fox/00000055_300resized.png'\n '/content/drive/MyDrive/valtest_size_300/fox/00000067_300resized.png'\n '/content/drive/MyDrive/valtest_size_300/fox/00000081_300resized.png'\n '/content/drive/MyDrive/valtest_size_300/fox/00000105_300resized.png'\n '/content/drive/MyDrive/valtest_size_300/fox/00000087_300resized.png'\n '/content/drive/MyDrive/valtest_size_300/fox/00000082_300resized.png'\n '/content/drive/MyDrive/valtest_size_300/fox/00000095_300resized.png'\n '/content/drive/MyDrive/valtest_size_300/fox/00000099_300resized.png'\n '/content/drive/MyDrive/valtest_size_300/fox/00000093_300resized.png'\n '/content/drive/MyDrive/valtest_size_300/fox/00000084_300resized.png'\n '/content/drive/MyDrive/valtest_size_300/fox/00000098_300resized.png'\n '/content/drive/MyDrive/valtest_size_300/fox/00000080_300resized.png'\n '/content/drive/MyDrive/valtest_size_300/fox/00000094_300resized.png'\n '/content/drive/MyDrive/valtest_size_300/fox/00000103_300resized.png'\n '/content/drive/MyDrive/valtest_size_300/fox/00000086_300resized.png'\n '/content/drive/MyDrive/valtest_size_300/fox/00000110_300resized.png'\n '/content/drive/MyDrive/valtest_size_300/fox/00000109_300resized.png'\n '/content/drive/MyDrive/valtest_size_300/hyena/00000006_300resized.png'\n '/content/drive/MyDrive/valtest_size_300/hyena/00000012_300resized.png'\n '/content/drive/MyDrive/valtest_size_300/hyena/00000016_300resized.png'\n '/content/drive/MyDrive/valtest_size_300/hyena/00000001_300resized.png'\n '/content/drive/MyDrive/valtest_size_300/hyena/00000005_300resized.png'\n '/content/drive/MyDrive/valtest_size_300/hyena/00000008_300resized.png'\n '/content/drive/MyDrive/valtest_size_300/hyena/00000015_300resized.png'\n '/content/drive/MyDrive/valtest_size_300/hyena/00000004_300resized.png'\n '/content/drive/MyDrive/valtest_size_300/hyena/00000000_300resized.png'\n '/content/drive/MyDrive/valtest_size_300/hyena/00000007_300resized.png'\n '/content/drive/MyDrive/valtest_size_300/hyena/00000010_300resized.png'\n '/content/drive/MyDrive/valtest_size_300/hyena/00000009_300resized.png'\n '/content/drive/MyDrive/valtest_size_300/hyena/00000018_300resized.png'\n '/content/drive/MyDrive/valtest_size_300/hyena/00000013_300resized.png'\n '/content/drive/MyDrive/valtest_size_300/hyena/00000003_300resized.png'\n '/content/drive/MyDrive/valtest_size_300/hyena/00000025_300resized.png'\n '/content/drive/MyDrive/valtest_size_300/hyena/00000030_300resized.png'\n '/content/drive/MyDrive/valtest_size_300/hyena/00000057_300resized.png'\n '/content/drive/MyDrive/valtest_size_300/hyena/00000047_300resized.png'\n '/content/drive/MyDrive/valtest_size_300/hyena/00000041_300resized.png'\n '/content/drive/MyDrive/valtest_size_300/hyena/00000038_300resized.png'\n '/content/drive/MyDrive/valtest_size_300/hyena/00000026_300resized.png'\n '/content/drive/MyDrive/valtest_size_300/hyena/00000054_300resized.png'\n '/content/drive/MyDrive/valtest_size_300/hyena/00000060_300resized.png'\n '/content/drive/MyDrive/valtest_size_300/hyena/00000052_300resized.png'\n '/content/drive/MyDrive/valtest_size_300/hyena/00000055_300resized.png'\n '/content/drive/MyDrive/valtest_size_300/hyena/00000051_300resized.png'\n '/content/drive/MyDrive/valtest_size_300/hyena/00000036_300resized.png'\n '/content/drive/MyDrive/valtest_size_300/hyena/00000028_300resized.png'\n '/content/drive/MyDrive/valtest_size_300/hyena/00000044_300resized.png'\n '/content/drive/MyDrive/valtest_size_300/hyena/00000024_300resized.png'\n '/content/drive/MyDrive/valtest_size_300/hyena/00000037_300resized.png'\n '/content/drive/MyDrive/valtest_size_300/hyena/00000040_300resized.png'\n '/content/drive/MyDrive/valtest_size_300/hyena/00000020_300resized.png'\n '/content/drive/MyDrive/valtest_size_300/hyena/00000035_300resized.png'\n '/content/drive/MyDrive/valtest_size_300/hyena/00000032_300resized.png'\n '/content/drive/MyDrive/valtest_size_300/hyena/00000033_300resized.png'\n '/content/drive/MyDrive/valtest_size_300/hyena/00000059_300resized.png'\n '/content/drive/MyDrive/valtest_size_300/hyena/00000019_300resized.png'\n '/content/drive/MyDrive/valtest_size_300/hyena/00000023_300resized.png'\n '/content/drive/MyDrive/valtest_size_300/hyena/00000056_300resized.png'\n '/content/drive/MyDrive/valtest_size_300/hyena/00000039_300resized.png'\n '/content/drive/MyDrive/valtest_size_300/hyena/00000034_300resized.png'\n '/content/drive/MyDrive/valtest_size_300/hyena/00000062_300resized.png'\n '/content/drive/MyDrive/valtest_size_300/hyena/00000063_300resized.png'\n '/content/drive/MyDrive/valtest_size_300/hyena/00000069_300resized.png'\n '/content/drive/MyDrive/valtest_size_300/hyena/00000061_300resized.png'\n '/content/drive/MyDrive/valtest_size_300/hyena/00000071_300resized.png'\n '/content/drive/MyDrive/valtest_size_300/hyena/00000078_300resized.png'\n '/content/drive/MyDrive/valtest_size_300/hyena/00000086_300resized.png'\n '/content/drive/MyDrive/valtest_size_300/hyena/00000096_300resized.png'\n '/content/drive/MyDrive/valtest_size_300/hyena/00000079_300resized.png'\n '/content/drive/MyDrive/valtest_size_300/hyena/00000067_300resized.png'\n '/content/drive/MyDrive/valtest_size_300/hyena/00000068_300resized.png'\n '/content/drive/MyDrive/valtest_size_300/hyena/00000072_300resized.png'\n '/content/drive/MyDrive/valtest_size_300/hyena/00000064_300resized.png'\n '/content/drive/MyDrive/valtest_size_300/hyena/00000082_300resized.png'\n '/content/drive/MyDrive/valtest_size_300/hyena/00000081_300resized.png'\n '/content/drive/MyDrive/valtest_size_300/hyena/00000076_300resized.png'\n '/content/drive/MyDrive/valtest_size_300/hyena/00000090_300resized.png'\n '/content/drive/MyDrive/valtest_size_300/hyena/00000085_300resized.png'\n '/content/drive/MyDrive/valtest_size_300/hyena/00000070_300resized.png'\n '/content/drive/MyDrive/valtest_size_300/hyena/00000089_300resized.png'\n '/content/drive/MyDrive/valtest_size_300/hyena/00000083_300resized.png'\n '/content/drive/MyDrive/valtest_size_300/hyena/00000088_300resized.png'\n '/content/drive/MyDrive/valtest_size_300/hyena/00000077_300resized.png'\n '/content/drive/MyDrive/valtest_size_300/hyena/00000065_300resized.png'\n '/content/drive/MyDrive/valtest_size_300/hyena/00000094_300resized.png'\n '/content/drive/MyDrive/valtest_size_300/hyena/00000095_300resized.png'\n '/content/drive/MyDrive/valtest_size_300/hyena/00000113_300resized.png'\n '/content/drive/MyDrive/valtest_size_300/hyena/00000112_300resized.png'\n '/content/drive/MyDrive/valtest_size_300/hyena/00000105_300resized.png'\n '/content/drive/MyDrive/valtest_size_300/hyena/00000097_300resized.png'\n '/content/drive/MyDrive/valtest_size_300/hyena/00000100_300resized.png'\n '/content/drive/MyDrive/valtest_size_300/hyena/00000111_300resized.png'\n '/content/drive/MyDrive/valtest_size_300/hyena/00000128_300resized.png'\n '/content/drive/MyDrive/valtest_size_300/hyena/00000102_300resized.png'\n '/content/drive/MyDrive/valtest_size_300/hyena/00000120_300resized.png'\n '/content/drive/MyDrive/valtest_size_300/hyena/00000104_300resized.png'\n '/content/drive/MyDrive/valtest_size_300/hyena/00000114_300resized.png'\n '/content/drive/MyDrive/valtest_size_300/hyena/00000098_300resized.png'\n '/content/drive/MyDrive/valtest_size_300/hyena/00000109_300resized.png'\n '/content/drive/MyDrive/valtest_size_300/hyena/00000125_300resized.png'\n '/content/drive/MyDrive/valtest_size_300/hyena/00000121_300resized.png'\n '/content/drive/MyDrive/valtest_size_300/hyena/00000119_300resized.png'\n '/content/drive/MyDrive/valtest_size_300/hyena/00000101_300resized.png'\n '/content/drive/MyDrive/valtest_size_300/hyena/00000107_300resized.png'\n '/content/drive/MyDrive/valtest_size_300/hyena/00000123_300resized.png'\n '/content/drive/MyDrive/valtest_size_300/hyena/00000110_300resized.png'\n '/content/drive/MyDrive/valtest_size_300/hyena/00000124_300resized.png'\n '/content/drive/MyDrive/valtest_size_300/hyena/00000122_300resized.png'\n '/content/drive/MyDrive/valtest_size_300/hyena/00000106_300resized.png'\n '/content/drive/MyDrive/valtest_size_300/lion/00000009_300resized.png'\n '/content/drive/MyDrive/valtest_size_300/lion/00000004_300resized.png'\n '/content/drive/MyDrive/valtest_size_300/lion/00000001_300resized.png'\n '/content/drive/MyDrive/valtest_size_300/lion/00000010_300resized.png'\n '/content/drive/MyDrive/valtest_size_300/lion/00000006_300resized.png'\n '/content/drive/MyDrive/valtest_size_300/lion/00000011_300resized.png'\n '/content/drive/MyDrive/valtest_size_300/lion/00000012_300resized.png'\n '/content/drive/MyDrive/valtest_size_300/lion/00000008_300resized.png'\n '/content/drive/MyDrive/valtest_size_300/lion/00000003_300resized.png'\n '/content/drive/MyDrive/valtest_size_300/lion/00000007_300resized.png'\n '/content/drive/MyDrive/valtest_size_300/lion/00000005_300resized.png'\n '/content/drive/MyDrive/valtest_size_300/lion/00000002_300resized.png'\n '/content/drive/MyDrive/valtest_size_300/lion/00000016_300resized.png'\n '/content/drive/MyDrive/valtest_size_300/lion/00000042_300resized.png'\n '/content/drive/MyDrive/valtest_size_300/lion/00000020_300resized.png'\n '/content/drive/MyDrive/valtest_size_300/lion/00000040_300resized.png'\n '/content/drive/MyDrive/valtest_size_300/lion/00000037_300resized.png'\n '/content/drive/MyDrive/valtest_size_300/lion/00000034_300resized.png'\n '/content/drive/MyDrive/valtest_size_300/lion/00000021_300resized.png'\n '/content/drive/MyDrive/valtest_size_300/lion/00000018_300resized.png'\n '/content/drive/MyDrive/valtest_size_300/lion/00000017_300resized.png'\n '/content/drive/MyDrive/valtest_size_300/lion/00000015_300resized.png'\n '/content/drive/MyDrive/valtest_size_300/lion/00000038_300resized.png'\n '/content/drive/MyDrive/valtest_size_300/lion/00000036_300resized.png'\n '/content/drive/MyDrive/valtest_size_300/lion/00000022_300resized.png'\n '/content/drive/MyDrive/valtest_size_300/lion/00000031_300resized.png'\n '/content/drive/MyDrive/valtest_size_300/lion/00000035_300resized.png'\n '/content/drive/MyDrive/valtest_size_300/lion/00000014_300resized.png'\n '/content/drive/MyDrive/valtest_size_300/lion/00000024_300resized.png'\n '/content/drive/MyDrive/valtest_size_300/lion/00000026_300resized.png'\n '/content/drive/MyDrive/valtest_size_300/lion/00000013_300resized.png'\n '/content/drive/MyDrive/valtest_size_300/lion/00000032_300resized.png'\n '/content/drive/MyDrive/valtest_size_300/lion/00000028_300resized.png'\n '/content/drive/MyDrive/valtest_size_300/lion/00000023_300resized.png'\n '/content/drive/MyDrive/valtest_size_300/lion/00000041_300resized.png'\n '/content/drive/MyDrive/valtest_size_300/lion/00000019_300resized.png'\n '/content/drive/MyDrive/valtest_size_300/lion/00000046_300resized.png'\n '/content/drive/MyDrive/valtest_size_300/lion/00000054_300resized.png'\n '/content/drive/MyDrive/valtest_size_300/lion/00000060_300resized.png'\n '/content/drive/MyDrive/valtest_size_300/lion/00000075_300resized.png'\n '/content/drive/MyDrive/valtest_size_300/lion/00000047_300resized.png'\n '/content/drive/MyDrive/valtest_size_300/lion/00000045_300resized.png'\n '/content/drive/MyDrive/valtest_size_300/lion/00000051_300resized.png'\n '/content/drive/MyDrive/valtest_size_300/lion/00000071_300resized.png'\n '/content/drive/MyDrive/valtest_size_300/lion/00000067_300resized.png'\n '/content/drive/MyDrive/valtest_size_300/lion/00000048_300resized.png'\n '/content/drive/MyDrive/valtest_size_300/lion/00000069_300resized.png'\n '/content/drive/MyDrive/valtest_size_300/lion/00000055_300resized.png'\n '/content/drive/MyDrive/valtest_size_300/lion/00000062_300resized.png'\n '/content/drive/MyDrive/valtest_size_300/lion/00000077_300resized.png'\n '/content/drive/MyDrive/valtest_size_300/lion/00000076_300resized.png'\n '/content/drive/MyDrive/valtest_size_300/lion/00000050_300resized.png'\n '/content/drive/MyDrive/valtest_size_300/lion/00000056_300resized.png'\n '/content/drive/MyDrive/valtest_size_300/lion/00000057_300resized.png'\n '/content/drive/MyDrive/valtest_size_300/lion/00000052_300resized.png'\n '/content/drive/MyDrive/valtest_size_300/lion/00000063_300resized.png'\n '/content/drive/MyDrive/valtest_size_300/lion/00000058_300resized.png'\n '/content/drive/MyDrive/valtest_size_300/lion/00000053_300resized.png'\n '/content/drive/MyDrive/valtest_size_300/lion/00000044_300resized.png'\n '/content/drive/MyDrive/valtest_size_300/lion/00000072_300resized.png'\n '/content/drive/MyDrive/valtest_size_300/lion/00000070_300resized.png'\n '/content/drive/MyDrive/valtest_size_300/lion/00000059_300resized.png'\n '/content/drive/MyDrive/valtest_size_300/lion/00000073_300resized.png'\n '/content/drive/MyDrive/valtest_size_300/lion/00000092_300resized.png'\n '/content/drive/MyDrive/valtest_size_300/lion/00000079_300resized.png'\n '/content/drive/MyDrive/valtest_size_300/lion/00000113_300resized.png'\n '/content/drive/MyDrive/valtest_size_300/lion/00000088_300resized.png'\n '/content/drive/MyDrive/valtest_size_300/lion/00000083_300resized.png'\n '/content/drive/MyDrive/valtest_size_300/lion/00000115_300resized.png'\n '/content/drive/MyDrive/valtest_size_300/lion/00000082_300resized.png'\n '/content/drive/MyDrive/valtest_size_300/lion/00000095_300resized.png'\n '/content/drive/MyDrive/valtest_size_300/lion/00000106_300resized.png'\n '/content/drive/MyDrive/valtest_size_300/lion/00000093_300resized.png'\n '/content/drive/MyDrive/valtest_size_300/lion/00000108_300resized.png'\n '/content/drive/MyDrive/valtest_size_300/lion/00000080_300resized.png'\n '/content/drive/MyDrive/valtest_size_300/lion/00000089_300resized.png'\n '/content/drive/MyDrive/valtest_size_300/lion/00000094_300resized.png'\n '/content/drive/MyDrive/valtest_size_300/lion/00000098_300resized.png'\n '/content/drive/MyDrive/valtest_size_300/lion/00000086_300resized.png'\n '/content/drive/MyDrive/valtest_size_300/lion/00000110_300resized.png'\n '/content/drive/MyDrive/valtest_size_300/lion/00000081_300resized.png'\n '/content/drive/MyDrive/valtest_size_300/lion/00000090_300resized.png'\n '/content/drive/MyDrive/valtest_size_300/lion/00000091_300resized.png'\n '/content/drive/MyDrive/valtest_size_300/lion/00000103_300resized.png'\n '/content/drive/MyDrive/valtest_size_300/lion/00000087_300resized.png'\n '/content/drive/MyDrive/valtest_size_300/lion/00000101_300resized.png'\n '/content/drive/MyDrive/valtest_size_300/lion/00000100_300resized.png'\n '/content/drive/MyDrive/valtest_size_300/lion/00000116_300resized.png'\n '/content/drive/MyDrive/valtest_size_300/tiger/00000000_300resized.png'\n '/content/drive/MyDrive/valtest_size_300/tiger/00000019_300resized.png'\n '/content/drive/MyDrive/valtest_size_300/tiger/00000029_300resized.png'\n '/content/drive/MyDrive/valtest_size_300/tiger/00000038_300resized.png'\n '/content/drive/MyDrive/valtest_size_300/tiger/00000003_300resized.png'\n '/content/drive/MyDrive/valtest_size_300/tiger/00000023_300resized.png'\n '/content/drive/MyDrive/valtest_size_300/tiger/00000002_300resized.png'\n '/content/drive/MyDrive/valtest_size_300/tiger/00000004_300resized.png'\n '/content/drive/MyDrive/valtest_size_300/tiger/00000011_300resized.png'\n '/content/drive/MyDrive/valtest_size_300/tiger/00000013_300resized.png'\n '/content/drive/MyDrive/valtest_size_300/tiger/00000005_300resized.png'\n '/content/drive/MyDrive/valtest_size_300/tiger/00000010_300resized.png'\n '/content/drive/MyDrive/valtest_size_300/tiger/00000015_300resized.png'\n '/content/drive/MyDrive/valtest_size_300/tiger/00000021_300resized.png'\n '/content/drive/MyDrive/valtest_size_300/tiger/00000007_300resized.png'\n '/content/drive/MyDrive/valtest_size_300/tiger/00000039_300resized.png'\n '/content/drive/MyDrive/valtest_size_300/tiger/00000022_300resized.png'\n '/content/drive/MyDrive/valtest_size_300/tiger/00000009_300resized.png'\n '/content/drive/MyDrive/valtest_size_300/tiger/00000025_300resized.png'\n '/content/drive/MyDrive/valtest_size_300/tiger/00000018_300resized.png'\n '/content/drive/MyDrive/valtest_size_300/tiger/00000037_300resized.png'\n '/content/drive/MyDrive/valtest_size_300/tiger/00000017_300resized.png'\n '/content/drive/MyDrive/valtest_size_300/tiger/00000035_300resized.png'\n '/content/drive/MyDrive/valtest_size_300/tiger/00000027_300resized.png'\n '/content/drive/MyDrive/valtest_size_300/tiger/00000024_300resized.png'\n '/content/drive/MyDrive/valtest_size_300/tiger/00000016_300resized.png'\n '/content/drive/MyDrive/valtest_size_300/tiger/00000020_300resized.png'\n '/content/drive/MyDrive/valtest_size_300/tiger/00000032_300resized.png'\n '/content/drive/MyDrive/valtest_size_300/tiger/00000053_300resized.png'\n '/content/drive/MyDrive/valtest_size_300/tiger/00000070_300resized.png'\n '/content/drive/MyDrive/valtest_size_300/tiger/00000067_300resized.png'\n '/content/drive/MyDrive/valtest_size_300/tiger/00000071_300resized.png'\n '/content/drive/MyDrive/valtest_size_300/tiger/00000076_300resized.png'\n '/content/drive/MyDrive/valtest_size_300/tiger/00000075_300resized.png'\n '/content/drive/MyDrive/valtest_size_300/tiger/00000065_300resized.png'\n '/content/drive/MyDrive/valtest_size_300/tiger/00000047_300resized.png'\n '/content/drive/MyDrive/valtest_size_300/tiger/00000051_300resized.png'\n '/content/drive/MyDrive/valtest_size_300/tiger/00000050_300resized.png'\n '/content/drive/MyDrive/valtest_size_300/tiger/00000079_300resized.png'\n '/content/drive/MyDrive/valtest_size_300/tiger/00000061_300resized.png'\n '/content/drive/MyDrive/valtest_size_300/tiger/00000063_300resized.png'\n '/content/drive/MyDrive/valtest_size_300/tiger/00000080_300resized.png'\n '/content/drive/MyDrive/valtest_size_300/tiger/00000048_300resized.png'\n '/content/drive/MyDrive/valtest_size_300/tiger/00000044_300resized.png'\n '/content/drive/MyDrive/valtest_size_300/tiger/00000069_300resized.png'\n '/content/drive/MyDrive/valtest_size_300/tiger/00000041_300resized.png'\n '/content/drive/MyDrive/valtest_size_300/tiger/00000054_300resized.png'\n '/content/drive/MyDrive/valtest_size_300/tiger/00000042_300resized.png'\n '/content/drive/MyDrive/valtest_size_300/tiger/00000058_300resized.png'\n '/content/drive/MyDrive/valtest_size_300/tiger/00000055_300resized.png'\n '/content/drive/MyDrive/valtest_size_300/tiger/00000081_300resized.png'\n '/content/drive/MyDrive/valtest_size_300/tiger/00000062_300resized.png'\n '/content/drive/MyDrive/valtest_size_300/tiger/00000108_300resized.png'\n '/content/drive/MyDrive/valtest_size_300/tiger/00000109_300resized.png'\n '/content/drive/MyDrive/valtest_size_300/tiger/00000125_300resized.png'\n '/content/drive/MyDrive/valtest_size_300/tiger/00000088_300resized.png'\n '/content/drive/MyDrive/valtest_size_300/tiger/00000111_300resized.png'\n '/content/drive/MyDrive/valtest_size_300/tiger/00000083_300resized.png'\n '/content/drive/MyDrive/valtest_size_300/tiger/00000114_300resized.png'\n '/content/drive/MyDrive/valtest_size_300/tiger/00000084_300resized.png'\n '/content/drive/MyDrive/valtest_size_300/tiger/00000085_300resized.png'\n '/content/drive/MyDrive/valtest_size_300/tiger/00000104_300resized.png'\n '/content/drive/MyDrive/valtest_size_300/tiger/00000113_300resized.png'\n '/content/drive/MyDrive/valtest_size_300/tiger/00000117_300resized.png'\n '/content/drive/MyDrive/valtest_size_300/tiger/00000118_300resized.png'\n '/content/drive/MyDrive/valtest_size_300/tiger/00000110_300resized.png'\n '/content/drive/MyDrive/valtest_size_300/tiger/00000120_300resized.png'\n '/content/drive/MyDrive/valtest_size_300/tiger/00000090_300resized.png'\n '/content/drive/MyDrive/valtest_size_300/tiger/00000094_300resized.png'\n '/content/drive/MyDrive/valtest_size_300/tiger/00000098_300resized.png'\n '/content/drive/MyDrive/valtest_size_300/tiger/00000092_300resized.png'\n '/content/drive/MyDrive/valtest_size_300/tiger/00000095_300resized.png'\n '/content/drive/MyDrive/valtest_size_300/tiger/00000106_300resized.png'\n '/content/drive/MyDrive/valtest_size_300/tiger/00000082_300resized.png'\n '/content/drive/MyDrive/valtest_size_300/tiger/00000112_300resized.png'\n '/content/drive/MyDrive/valtest_size_300/tiger/00000091_300resized.png'\n '/content/drive/MyDrive/valtest_size_300/tiger/00000100_300resized.png'\n '/content/drive/MyDrive/valtest_size_300/tiger/00000105_300resized.png'\n '/content/drive/MyDrive/valtest_size_300/tiger/00000116_300resized.png'\n '/content/drive/MyDrive/valtest_size_300/tiger/00000103_300resized.png'\n '/content/drive/MyDrive/valtest_size_300/tiger/00000093_300resized.png'\n '/content/drive/MyDrive/valtest_size_300/wolf/00000008_300resized.png'\n '/content/drive/MyDrive/valtest_size_300/wolf/00000003_300resized.png'\n '/content/drive/MyDrive/valtest_size_300/wolf/00000002_300resized.png'\n '/content/drive/MyDrive/valtest_size_300/wolf/00000007_300resized.png'\n '/content/drive/MyDrive/valtest_size_300/wolf/00000006_300resized.png'\n '/content/drive/MyDrive/valtest_size_300/wolf/00000005_300resized.png'\n '/content/drive/MyDrive/valtest_size_300/wolf/00000004_300resized.png'\n '/content/drive/MyDrive/valtest_size_300/wolf/00000000_300resized.png'\n '/content/drive/MyDrive/valtest_size_300/wolf/00000001_300resized.png'\n '/content/drive/MyDrive/valtest_size_300/wolf/00000015_300resized.png'\n '/content/drive/MyDrive/valtest_size_300/wolf/00000024_300resized.png'\n '/content/drive/MyDrive/valtest_size_300/wolf/00000027_300resized.png'\n '/content/drive/MyDrive/valtest_size_300/wolf/00000039_300resized.png'\n '/content/drive/MyDrive/valtest_size_300/wolf/00000016_300resized.png'\n '/content/drive/MyDrive/valtest_size_300/wolf/00000019_300resized.png'\n '/content/drive/MyDrive/valtest_size_300/wolf/00000034_300resized.png'\n '/content/drive/MyDrive/valtest_size_300/wolf/00000026_300resized.png'\n '/content/drive/MyDrive/valtest_size_300/wolf/00000012_300resized.png'\n '/content/drive/MyDrive/valtest_size_300/wolf/00000031_300resized.png'\n '/content/drive/MyDrive/valtest_size_300/wolf/00000035_300resized.png'\n '/content/drive/MyDrive/valtest_size_300/wolf/00000021_300resized.png'\n '/content/drive/MyDrive/valtest_size_300/wolf/00000038_300resized.png'\n '/content/drive/MyDrive/valtest_size_300/wolf/00000009_300resized.png'\n '/content/drive/MyDrive/valtest_size_300/wolf/00000030_300resized.png'\n '/content/drive/MyDrive/valtest_size_300/wolf/00000028_300resized.png'\n '/content/drive/MyDrive/valtest_size_300/wolf/00000010_300resized.png'\n '/content/drive/MyDrive/valtest_size_300/wolf/00000022_300resized.png'\n '/content/drive/MyDrive/valtest_size_300/wolf/00000023_300resized.png'\n '/content/drive/MyDrive/valtest_size_300/wolf/00000037_300resized.png'\n '/content/drive/MyDrive/valtest_size_300/wolf/00000017_300resized.png'\n '/content/drive/MyDrive/valtest_size_300/wolf/00000013_300resized.png'\n '/content/drive/MyDrive/valtest_size_300/wolf/00000032_300resized.png'\n '/content/drive/MyDrive/valtest_size_300/wolf/00000020_300resized.png'\n '/content/drive/MyDrive/valtest_size_300/wolf/00000018_300resized.png'\n '/content/drive/MyDrive/valtest_size_300/wolf/00000011_300resized.png'\n '/content/drive/MyDrive/valtest_size_300/wolf/00000041_300resized.png'\n '/content/drive/MyDrive/valtest_size_300/wolf/00000049_300resized.png'\n '/content/drive/MyDrive/valtest_size_300/wolf/00000046_300resized.png'\n '/content/drive/MyDrive/valtest_size_300/wolf/00000070_300resized.png'\n '/content/drive/MyDrive/valtest_size_300/wolf/00000073_300resized.png'\n '/content/drive/MyDrive/valtest_size_300/wolf/00000076_300resized.png'\n '/content/drive/MyDrive/valtest_size_300/wolf/00000077_300resized.png'\n '/content/drive/MyDrive/valtest_size_300/wolf/00000063_300resized.png'\n '/content/drive/MyDrive/valtest_size_300/wolf/00000056_300resized.png'\n '/content/drive/MyDrive/valtest_size_300/wolf/00000065_300resized.png'\n '/content/drive/MyDrive/valtest_size_300/wolf/00000059_300resized.png'\n '/content/drive/MyDrive/valtest_size_300/wolf/00000062_300resized.png'\n '/content/drive/MyDrive/valtest_size_300/wolf/00000042_300resized.png'\n '/content/drive/MyDrive/valtest_size_300/wolf/00000072_300resized.png'\n '/content/drive/MyDrive/valtest_size_300/wolf/00000052_300resized.png'\n '/content/drive/MyDrive/valtest_size_300/wolf/00000040_300resized.png'\n '/content/drive/MyDrive/valtest_size_300/wolf/00000064_300resized.png'\n '/content/drive/MyDrive/valtest_size_300/wolf/00000044_300resized.png'\n '/content/drive/MyDrive/valtest_size_300/wolf/00000050_300resized.png'\n '/content/drive/MyDrive/valtest_size_300/wolf/00000078_300resized.png'\n '/content/drive/MyDrive/valtest_size_300/wolf/00000043_300resized.png'\n '/content/drive/MyDrive/valtest_size_300/wolf/00000061_300resized.png'\n '/content/drive/MyDrive/valtest_size_300/wolf/00000055_300resized.png'\n '/content/drive/MyDrive/valtest_size_300/wolf/00000074_300resized.png'\n '/content/drive/MyDrive/valtest_size_300/wolf/00000084_300resized.png'\n '/content/drive/MyDrive/valtest_size_300/wolf/00000085_300resized.png'\n '/content/drive/MyDrive/valtest_size_300/wolf/00000060_300resized.png'\n '/content/drive/MyDrive/valtest_size_300/wolf/00000098_300resized.png'\n '/content/drive/MyDrive/valtest_size_300/wolf/00000108_300resized.png'\n '/content/drive/MyDrive/valtest_size_300/wolf/00000097_300resized.png'\n '/content/drive/MyDrive/valtest_size_300/wolf/00000101_300resized.png'\n '/content/drive/MyDrive/valtest_size_300/wolf/00000093_300resized.png'\n '/content/drive/MyDrive/valtest_size_300/wolf/00000109_300resized.png'\n '/content/drive/MyDrive/valtest_size_300/wolf/00000099_300resized.png'\n '/content/drive/MyDrive/valtest_size_300/wolf/00000110_300resized.png'\n '/content/drive/MyDrive/valtest_size_300/wolf/00000106_300resized.png'\n '/content/drive/MyDrive/valtest_size_300/wolf/00000100_300resized.png'\n '/content/drive/MyDrive/valtest_size_300/wolf/00000105_300resized.png'\n '/content/drive/MyDrive/valtest_size_300/wolf/00000096_300resized.png'\n '/content/drive/MyDrive/valtest_size_300/wolf/00000115_300resized.png'\n '/content/drive/MyDrive/valtest_size_300/wolf/00000113_300resized.png'\n '/content/drive/MyDrive/valtest_size_300/wolf/00000103_300resized.png'\n '/content/drive/MyDrive/valtest_size_300/wolf/00000095_300resized.png'\n '/content/drive/MyDrive/valtest_size_300/wolf/00000090_300resized.png'].\nReshape your data either using array.reshape(-1, 1) if your data has a single feature or array.reshape(1, -1) if it contains a single sample."
          ]
        }
      ]
    }
  ]
}